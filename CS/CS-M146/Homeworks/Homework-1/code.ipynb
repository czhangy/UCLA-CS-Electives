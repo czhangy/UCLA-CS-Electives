{
  "nbformat": 4,
  "nbformat_minor": 0,
  "metadata": {
    "colab": {
      "provenance": [],
      "collapsed_sections": []
    },
    "kernelspec": {
      "name": "python3",
      "display_name": "Python 3"
    }
  },
  "cells": [
    {
      "cell_type": "code",
      "source": [],
      "metadata": {
        "id": "DONanx0hqY7_"
      },
      "execution_count": null,
      "outputs": []
    },
    {
      "cell_type": "markdown",
      "source": [
        "# Homework 1\n",
        "\n",
        "**Name**: **Charles Zhang**\n",
        "\n",
        "**UID**: **305413659**"
      ],
      "metadata": {
        "id": "U28DL6ozLoGs"
      }
    },
    {
      "cell_type": "code",
      "source": [
        "# Download a processed version of the data\n",
        "!wget https://web.cs.ucla.edu/~zshi/files/CS146/mushroom.txt"
      ],
      "metadata": {
        "id": "4Ri1ZgvQa1mh",
        "colab": {
          "base_uri": "https://localhost:8080/"
        },
        "outputId": "5f1fcb9a-de7e-40ad-c5ae-8f3294844e23"
      },
      "execution_count": null,
      "outputs": [
        {
          "output_type": "stream",
          "name": "stdout",
          "text": [
            "--2022-10-12 16:51:13--  https://web.cs.ucla.edu/~zshi/files/CS146/mushroom.txt\n",
            "Resolving web.cs.ucla.edu (web.cs.ucla.edu)... 131.179.128.29\n",
            "Connecting to web.cs.ucla.edu (web.cs.ucla.edu)|131.179.128.29|:443... connected.\n",
            "HTTP request sent, awaiting response... 200 OK\n",
            "Length: 1264848 (1.2M) [text/plain]\n",
            "Saving to: ‘mushroom.txt’\n",
            "\n",
            "mushroom.txt        100%[===================>]   1.21M  3.06MB/s    in 0.4s    \n",
            "\n",
            "2022-10-12 16:51:14 (3.06 MB/s) - ‘mushroom.txt’ saved [1264848/1264848]\n",
            "\n"
          ]
        }
      ]
    },
    {
      "cell_type": "code",
      "metadata": {
        "id": "55EocyDPsWIb"
      },
      "source": [
        "# Use only the provided packages\n",
        "import sys\n",
        "import math\n",
        "import csv\n",
        "import pandas\n",
        "import os\n",
        "import random\n",
        "import numpy as np\n",
        "from collections import Counter\n",
        "from dataclasses import dataclass\n",
        "\n",
        "import matplotlib as mpl\n",
        "import matplotlib.pyplot as plt\n",
        "\n",
        "from sklearn.tree import DecisionTreeClassifier\n",
        "from sklearn.neighbors import KNeighborsClassifier\n",
        "from sklearn.model_selection import cross_val_score\n",
        "from sklearn.model_selection import cross_validate\n",
        "from sklearn import metrics\n",
        "from sklearn.preprocessing import StandardScaler\n",
        "from sklearn.model_selection import StratifiedShuffleSplit\n",
        "\n",
        "mpl.lines.width = 2\n",
        "mpl.axes.labelsize = 14"
      ],
      "execution_count": null,
      "outputs": []
    },
    {
      "cell_type": "code",
      "metadata": {
        "id": "dxpkWVRetDgo"
      },
      "source": [
        "class Classifier(object) :\n",
        "    \"\"\"\n",
        "    Classifier interface.\n",
        "    \"\"\"\n",
        "\n",
        "    def fit(self, X, y):\n",
        "        raise NotImplementedError()\n",
        "\n",
        "    def predict(self, X):\n",
        "        raise NotImplementedError()\n",
        "\n",
        "\n",
        "class MajorityVoteClassifier(Classifier) :\n",
        "\n",
        "    def __init__(self) :\n",
        "        \"\"\"\n",
        "        A classifier that always predicts the majority class.\n",
        "\n",
        "        Attributes\n",
        "        --------------------\n",
        "            prediction_ -- majority class\n",
        "        \"\"\"\n",
        "        self.prediction_ = None\n",
        "\n",
        "    def fit(self, X, y) :\n",
        "        \"\"\"\n",
        "        Build a majority vote classifier from the training set (X, y).\n",
        "\n",
        "        Parameters\n",
        "        --------------------\n",
        "            X    -- numpy array of shape (n,d), samples\n",
        "            y    -- numpy array of shape (n,), target classes\n",
        "\n",
        "        Returns\n",
        "        --------------------\n",
        "            self -- an instance of self\n",
        "        \"\"\"\n",
        "        majority_val = Counter(y).most_common(1)[0][0]\n",
        "        self.prediction_ = majority_val\n",
        "        return self\n",
        "\n",
        "    def predict(self, X) :\n",
        "        \"\"\"\n",
        "        Predict class values.\n",
        "\n",
        "        Parameters\n",
        "        --------------------\n",
        "            X    -- numpy array of shape (n,d), samples\n",
        "\n",
        "        Returns\n",
        "        --------------------\n",
        "            y    -- numpy array of shape (n,), predicted classes\n",
        "        \"\"\"\n",
        "        if self.prediction_ is None :\n",
        "            raise Exception(\"Classifier not initialized. Perform a fit first.\")\n",
        "\n",
        "        n,d = X.shape\n",
        "        y = [self.prediction_] * n\n",
        "        return y"
      ],
      "execution_count": null,
      "outputs": []
    },
    {
      "cell_type": "code",
      "metadata": {
        "id": "yefbwe8EvH-V"
      },
      "source": [
        "class RandomClassifier(Classifier) :\n",
        "\n",
        "    def __init__(self) :\n",
        "        \"\"\"\n",
        "        A classifier that predicts according to the distribution of the classes.\n",
        "\n",
        "        Attributes\n",
        "        --------------------\n",
        "            probabilities_ -- class distribution dict (key = class, val = probability of class)\n",
        "        \"\"\"\n",
        "        self.probabilities_ = None\n",
        "\n",
        "    def fit(self, X, y) :\n",
        "        \"\"\"\n",
        "        Build a random classifier from the training set (X, y).\n",
        "\n",
        "        Parameters\n",
        "        --------------------\n",
        "            X    -- numpy array of shape (n,d), samples\n",
        "            y    -- numpy array of shape (n,), target classes\n",
        "\n",
        "        Returns\n",
        "        --------------------\n",
        "            self -- an instance of self\n",
        "        \"\"\"\n",
        "\n",
        "        ### ========== TODO (a): START ========== ###\n",
        "        # set self.probabilities_ according to the training set\n",
        "        num_edible = np.count_nonzero(y)\n",
        "        num_inedible = y.size - num_edible\n",
        "        self.probabilities_ = {\n",
        "            0 : num_inedible / y.size,\n",
        "            1 : num_edible / y.size\n",
        "        }\n",
        "        ### ========== TODO : END ========== ###\n",
        "\n",
        "        return self\n",
        "\n",
        "    def predict(self, X, seed=1234) :\n",
        "        \"\"\"\n",
        "        Predict class values.\n",
        "\n",
        "        Parameters\n",
        "        --------------------\n",
        "            X    -- numpy array of shape (n,d), samples\n",
        "            seed -- integer, random seed\n",
        "\n",
        "        Returns\n",
        "        --------------------\n",
        "            y    -- numpy array of shape (n,), predicted classes\n",
        "        \"\"\"\n",
        "        if self.probabilities_ is None :\n",
        "            raise Exception(\"Classifier not initialized. Perform a fit first.\")\n",
        "        np.random.seed(seed)\n",
        "\n",
        "        ### ========== TODO (a): START ========== ###\n",
        "        # predict the class for each test example\n",
        "        # hint: use np.random.choice (be careful of the parameters)\n",
        "        n,d = X.shape\n",
        "        y = np.random.choice(list(self.probabilities_.keys()), n, p=list(self.probabilities_.values()))\n",
        "        ### ========== TODO : END ========== ###\n",
        "\n",
        "        return y\n"
      ],
      "execution_count": null,
      "outputs": []
    },
    {
      "cell_type": "code",
      "metadata": {
        "id": "7m9qVosFwbAK"
      },
      "source": [
        "def plot_histograms(X, y, Xnames, yname) :\n",
        "    n,d = X.shape  # n = number of examples, d =  number of features\n",
        "    fig = plt.figure(figsize=(20,20))\n",
        "    ncol = 3\n",
        "    nrow = d // ncol + 1\n",
        "    for i in range(d) :\n",
        "        fig.add_subplot (nrow,ncol,i+1)\n",
        "        data, bins, align, labels = plot_histogram(X[:,i], y, Xname=Xnames[i], yname=yname, show = False)\n",
        "        n, bins, patches = plt.hist(data, bins=bins, align=align, alpha=0.5, label=labels)\n",
        "        plt.xlabel(Xnames[i])\n",
        "        plt.ylabel('Frequency')\n",
        "        plt.legend()\n",
        "\n",
        "    plt.savefig ('histograms.pdf')\n",
        "\n",
        "\n",
        "def plot_histogram(X, y, Xname, yname, show = True) :\n",
        "    \"\"\"\n",
        "    Plots histogram of values in X grouped by y.\n",
        "\n",
        "    Parameters\n",
        "    --------------------\n",
        "        X     -- numpy array of shape (n,d), feature values\n",
        "        y     -- numpy array of shape (n,), target classes\n",
        "        Xname -- string, name of feature\n",
        "        yname -- string, name of target\n",
        "    \"\"\"\n",
        "\n",
        "    # set up data for plotting\n",
        "    targets = sorted(set(y))\n",
        "    data = []; labels = []\n",
        "    for target in targets :\n",
        "        features = [X[i] for i in range(len(y)) if y[i] == target]\n",
        "        data.append(features)\n",
        "        labels.append('%s = %s' % (yname, target))\n",
        "\n",
        "    # set up histogram bins\n",
        "    features = set(X)\n",
        "    nfeatures = len(features)\n",
        "    test_range = list(range(int(math.floor(min(features))), int(math.ceil(max(features)))+1))\n",
        "    if nfeatures < 10 and sorted(features) == test_range:\n",
        "        bins = test_range + [test_range[-1] + 1] # add last bin\n",
        "        align = 'left'\n",
        "    else :\n",
        "        bins = 10\n",
        "        align = 'mid'\n",
        "\n",
        "    # plot\n",
        "    if show == True:\n",
        "        plt.figure()\n",
        "        n, bins, patches = plt.hist(data, bins=bins, align=align, alpha=0.5, label=labels)\n",
        "        plt.xlabel(Xname)\n",
        "        plt.ylabel('Frequency')\n",
        "        plt.legend()\n",
        "        plt.show()\n",
        "\n",
        "    return data, bins, align, labels"
      ],
      "execution_count": null,
      "outputs": []
    },
    {
      "cell_type": "code",
      "metadata": {
        "id": "1Z8oJrMgxc4_"
      },
      "source": [
        "def error(clf, X, y, ntrials=1, test_size=0.0) :\n",
        "    \"\"\"\n",
        "    Computes the classifier error over a random split of the data,\n",
        "    averaged over ntrials runs.\n",
        "\n",
        "    Parameters\n",
        "    --------------------\n",
        "        clf         -- classifier\n",
        "        X           -- numpy array of shape (n,d), features values\n",
        "        y           -- numpy array of shape (n,), target classes\n",
        "        ntrials     -- integer, number of trials\n",
        "\n",
        "    Returns\n",
        "    --------------------\n",
        "        train_error -- float, training error\n",
        "        test_error  -- float, test error\n",
        "        f1_score    -- float, test \"micro\" averaged f1 score\n",
        "    \"\"\"\n",
        "\n",
        "    ### ========== TODO (d): START ========== ###\n",
        "    # compute cross-validation error using StratifiedShuffleSplit over ntrials\n",
        "    # hint: use StratifiedShuffleSplit (be careful of the parameters)\n",
        "    sss = StratifiedShuffleSplit(n_splits=ntrials, test_size=test_size, random_state=0)\n",
        "    train_error = 0\n",
        "    test_error = 0\n",
        "    f1_score = 0\n",
        "    for train_index, test_index in sss.split(X, y):\n",
        "      X_train, X_test = X[train_index], X[test_index]\n",
        "      y_train, y_test = y[train_index], y[test_index]\n",
        "      clf.fit(X_train, y_train)\n",
        "      y_train_pred = clf.predict(X_train)\n",
        "      y_test_pred = clf.predict(X_test)\n",
        "      train_error += (1 - metrics.accuracy_score(y_train, y_train_pred, normalize=True))\n",
        "      test_error += (1 - metrics.accuracy_score(y_test, y_test_pred, normalize=True))\n",
        "      f1_score += metrics.f1_score(y_test, y_test_pred, average='micro')\n",
        "    train_error /= ntrials\n",
        "    test_error /= ntrials\n",
        "    f1_score /= ntrials\n",
        "    ### ========== TODO : END ========== ###\n",
        "    \n",
        "    return train_error, test_error, f1_score\n"
      ],
      "execution_count": null,
      "outputs": []
    },
    {
      "cell_type": "code",
      "source": [
        "# Load the Mushroom dataset\n",
        "\n",
        "@dataclass\n",
        "class Dataset:\n",
        "    \"\"\"Class for the dataset.\"\"\"\n",
        "    X: np.array\n",
        "    y: np.array\n",
        "    Xnames: list\n",
        "    yname: str\n",
        "\n",
        "def load_data(data_file='mushroom.txt'):\n",
        "    \"\"\"Load data and map strings to numbers.\"\"\"\n",
        "    data = pandas.read_csv(data_file).to_numpy()\n",
        "    n = data.shape[0]\n",
        "    d = data.shape[1] - 1\n",
        "    # Map strings to numbers\n",
        "    X = np.zeros((n, d))\n",
        "    for i in range(d):\n",
        "        mapping = {name: j for j, name in enumerate(sorted(set(data[:, i+1])))}\n",
        "        for j in range(n):\n",
        "            X[j, i] = mapping[data[j, i+1]]\n",
        "    mapping = {'EDIBLE': 1, 'POISONOUS': 0}\n",
        "    y = np.zeros(n, dtype=np.int32)\n",
        "    for j in range(n):\n",
        "        y[j] = mapping[data[j, 0]]\n",
        "    #0 'cap-shape', \n",
        "    #1 'cap-surface', \n",
        "    #2 'cap-color', \n",
        "    #3 'bruises', \n",
        "    #4 'odor',      \n",
        "    #5 'gill-attachment', \n",
        "    #6 'gill-spacing', \n",
        "    #7 'gill-size', \n",
        "    #8 'gill-color',\n",
        "    #9 'stalk-shape', \n",
        "    #10 'stalk-root', \n",
        "    #11 'stalk-surface-above-ring', \n",
        "    #12 'stalk-surface-below-ring',\n",
        "    #13 'stalk-color-above-ring',\n",
        "    #14 'stalk-color-below-ring',\n",
        "    #15 'veil-type',\n",
        "    #16 'veil-color',\n",
        "    #17 'ring-number',\n",
        "    #18 'ring-type',\n",
        "    #19 'spore-print-color',\n",
        "    #20 'population',\n",
        "    #21 'habitat',        \n",
        "    Xnames = [\n",
        "        'cap-shape', \n",
        "        'cap-surface', \n",
        "        'cap-color', \n",
        "        'bruises', \n",
        "        'odor',\n",
        "        'gill-attachment', \n",
        "        'gill-spacing', \n",
        "        'gill-size', \n",
        "        'gill-color',\n",
        "        'stalk-shape', \n",
        "        'stalk-root', \n",
        "        'stalk-surface-above-ring', \n",
        "        'stalk-surface-below-ring',\n",
        "        'stalk-color-above-ring',\n",
        "        'stalk-color-below-ring',\n",
        "        'veil-type',\n",
        "        'veil-color',\n",
        "        'ring-number',\n",
        "        'ring-type',\n",
        "        'spore-print-color',\n",
        "        'population',\n",
        "        'habitat',\n",
        "    ]\n",
        "    # We only use these 6 features\n",
        "    features = [0, 2, 8, 10, 15, 17]\n",
        "    X = np.take(X, features, axis=-1)\n",
        "    Xnames = [Xnames[i] for i in features]\n",
        "    return Dataset(X=X, y=y, Xnames=Xnames, yname='edible')\n",
        "\n",
        "data = load_data()\n",
        "\n",
        "X = data.X; Xnames = data.Xnames\n",
        "y = data.y; yname = data.yname\n",
        "n,d = X.shape  # n = number of examples, d =  number of features\n",
        "\n",
        "\n",
        "# Shuffle the data for cross-validation\n",
        "import random\n",
        "idx = list(range(n))\n",
        "random.seed(0)\n",
        "random.shuffle(idx)\n",
        "X = np.take(X, idx, axis=0)\n",
        "y = np.take(y, idx, axis=0)"
      ],
      "metadata": {
        "id": "ndGimSPsbwl_"
      },
      "execution_count": null,
      "outputs": []
    },
    {
      "cell_type": "code",
      "source": [
        "plt.figure()\n",
        "# Plot histograms of each feature\n",
        "print('Plotting...')\n",
        "plot_histograms (X, y, Xnames=Xnames, yname=yname)"
      ],
      "metadata": {
        "id": "d9O041QeepGK",
        "colab": {
          "base_uri": "https://localhost:8080/",
          "height": 889
        },
        "outputId": "427237b0-3f61-4268-bd64-77b2cece1b40"
      },
      "execution_count": null,
      "outputs": [
        {
          "output_type": "stream",
          "name": "stdout",
          "text": [
            "Plotting...\n"
          ]
        },
        {
          "output_type": "stream",
          "name": "stderr",
          "text": [
            "/usr/local/lib/python3.7/dist-packages/numpy/core/fromnumeric.py:3208: VisibleDeprecationWarning: Creating an ndarray from ragged nested sequences (which is a list-or-tuple of lists-or-tuples-or ndarrays with different lengths or shapes) is deprecated. If you meant to do this, you must specify 'dtype=object' when creating the ndarray.\n",
            "  return asarray(a).size\n",
            "/usr/local/lib/python3.7/dist-packages/matplotlib/cbook/__init__.py:1376: VisibleDeprecationWarning: Creating an ndarray from ragged nested sequences (which is a list-or-tuple of lists-or-tuples-or ndarrays with different lengths or shapes) is deprecated. If you meant to do this, you must specify 'dtype=object' when creating the ndarray.\n",
            "  X = np.atleast_1d(X.T if isinstance(X, np.ndarray) else np.asarray(X))\n"
          ]
        },
        {
          "output_type": "display_data",
          "data": {
            "text/plain": [
              "<Figure size 432x288 with 0 Axes>"
            ]
          },
          "metadata": {}
        },
        {
          "output_type": "display_data",
          "data": {
            "text/plain": [
              "<Figure size 1440x1440 with 6 Axes>"
            ],
            "image/png": "[encoded data removed]"
          },
          "metadata": {
            "needs_background": "light"
          }
        }
      ]
    },
    {
      "cell_type": "code",
      "source": [
        "# train Majority Vote classifier on data\n",
        "print('Classifying using Majority Vote...')\n",
        "clf = MajorityVoteClassifier() # create MajorityVote classifier, which includes all model parameters\n",
        "clf.fit(X, y)                  # fit training data using the classifier\n",
        "y_pred = clf.predict(X)        # take the classifier and run it on the training data\n",
        "train_error = 1 - metrics.accuracy_score(y, y_pred, normalize=True)\n",
        "print('\\t-- Training Error: %.3f' % train_error)"
      ],
      "metadata": {
        "id": "DsavGsNaiqOE",
        "colab": {
          "base_uri": "https://localhost:8080/"
        },
        "outputId": "cfc12fc3-7bf4-4b9a-a543-5d2362a3cd47"
      },
      "execution_count": null,
      "outputs": [
        {
          "output_type": "stream",
          "name": "stdout",
          "text": [
            "Classifying using Majority Vote...\n",
            "[0 0 1 ... 1 0 0]\n",
            "\t-- training error: 0.467\n"
          ]
        }
      ]
    },
    {
      "cell_type": "code",
      "source": [
        "### ========== TODO (a): START ========== ###\n",
        "# evaluate training error of Random classifier\n",
        "print('Classifying using Random Classifier...')\n",
        "clf = RandomClassifier()  # create Random classifier, which includes all model parameters\n",
        "clf.fit(X, y)\n",
        "y_pred = clf.predict(X)   # take the classifier and run it on the training data\n",
        "train_error = 1 - metrics.accuracy_score(y, y_pred, normalize=True)\n",
        "print('\\t-- Training Error: %.3f' % train_error)\n",
        "### ========== TODO : END ========== ###"
      ],
      "metadata": {
        "id": "yKyE4skdirsI",
        "colab": {
          "base_uri": "https://localhost:8080/"
        },
        "outputId": "8d1aefa2-5531-4f5b-c594-2c44384beebf"
      },
      "execution_count": null,
      "outputs": [
        {
          "output_type": "stream",
          "name": "stdout",
          "text": [
            "Classifying using Random Classifier...\n",
            "\t-- Training Error: 0.503\n"
          ]
        }
      ]
    },
    {
      "cell_type": "code",
      "source": [
        "### ========== TODO (b): START ========== ###\n",
        "# evaluate training error of Decision Tree classifier\n",
        "print('Classifying using DecisionTreeClassifier...')\n",
        "clf = DecisionTreeClassifier(criterion='entropy')\n",
        "clf.fit(X, y)\n",
        "y_pred = clf.predict(X)\n",
        "train_error = 1 - metrics.accuracy_score(y, y_pred, normalize=True)\n",
        "print('\\t-- Training Error: %.3f' % train_error)\n",
        "### ========== TODO : END ========== ###"
      ],
      "metadata": {
        "id": "QY52Xls2isr3",
        "colab": {
          "base_uri": "https://localhost:8080/"
        },
        "outputId": "0cb5bccc-16a7-4531-b9c8-6e420f552735"
      },
      "execution_count": null,
      "outputs": [
        {
          "output_type": "stream",
          "name": "stdout",
          "text": [
            "Classifying using DecisionTreeClassifier...\n",
            "\t-- Training Error: 0.055\n"
          ]
        }
      ]
    },
    {
      "cell_type": "code",
      "source": [
        "### ========== TODO (c): START ========== ###\n",
        "# evaluate training error of k-Nearest Neighbors classifier\n",
        "# use k = 3, 11, 19 for n_neighbors\n",
        "print('Classifying using KNeighborsClassifier with k = 3...')\n",
        "clf = KNeighborsClassifier(n_neighbors=3)\n",
        "clf.fit(X, y)\n",
        "y_pred = clf.predict(X)\n",
        "train_error = 1 - metrics.accuracy_score(y, y_pred, normalize=True)\n",
        "print('\\t-- Training Error: %.3f' % train_error)\n",
        "print('Classifying using KNeighborsClassifier with k = 11...')\n",
        "clf = KNeighborsClassifier(n_neighbors=11)\n",
        "clf.fit(X, y)\n",
        "y_pred = clf.predict(X)\n",
        "train_error = 1 - metrics.accuracy_score(y, y_pred, normalize=True)\n",
        "print('\\t-- Training Error: %.3f' % train_error)\n",
        "print('Classifying using KNeighborsClassifier with k = 19...')\n",
        "clf = KNeighborsClassifier(n_neighbors=19)\n",
        "clf.fit(X, y)\n",
        "y_pred = clf.predict(X)\n",
        "train_error = 1 - metrics.accuracy_score(y, y_pred, normalize=True)\n",
        "print('\\t-- Training Error: %.3f' % train_error)\n",
        "### ========== TODO : END ========== ###"
      ],
      "metadata": {
        "id": "9J8BTu4xitvz",
        "colab": {
          "base_uri": "https://localhost:8080/"
        },
        "outputId": "4a3a3e89-1c46-4df9-f232-c1b21b5efb02"
      },
      "execution_count": null,
      "outputs": [
        {
          "output_type": "stream",
          "name": "stdout",
          "text": [
            "Classifying using KNeighborsClassifier with k = 3...\n",
            "\t-- Training Error: 0.064\n",
            "Classifying using KNeighborsClassifier with k = 11...\n",
            "\t-- Training Error: 0.070\n",
            "Classifying using KNeighborsClassifier with k = 19...\n",
            "\t-- Training Error: 0.076\n",
            "[0.92453951 0.93701723 0.91681521 0.91146762 0.91265597]\n"
          ]
        }
      ]
    },
    {
      "cell_type": "code",
      "source": [
        "### ========== TODO (d): START ========== ###\n",
        "# use cross-validation to compute average training and test error of classifiers\n",
        "print('Investigating various classifiers...')\n",
        "majority_vote = MajorityVoteClassifier()\n",
        "random = RandomClassifier()\n",
        "dtc = DecisionTreeClassifier(criterion='entropy')\n",
        "knn = KNeighborsClassifier(n_neighbors=11)\n",
        "mv_error = error(majority_vote, X, y, 100, 0.15)\n",
        "random_error = error(random, X, y, 100, 0.15)\n",
        "dtc_error = error(dtc, X, y, 100, 0.15)\n",
        "knn_error = error(knn, X, y, 100, 0.15)\n",
        "print('Majority Vote Classifier:')\n",
        "print('\\t-- Training Error: %.3f' % mv_error[0])\n",
        "print('\\t-- Test Error: %.3f' % mv_error[1])\n",
        "print('\\t-- F1 Score: %.3f' % mv_error[2])\n",
        "print('Random Classifier:')\n",
        "print('\\t-- Training Error: %.3f' % random_error[0])\n",
        "print('\\t-- Test Error: %.3f' % random_error[1])\n",
        "print('\\t-- F1 Score: %.3f' % random_error[2])\n",
        "print('Decision Tree Classifier:')\n",
        "print('\\t-- Training Error: %.3f' % dtc_error[0])\n",
        "print('\\t-- Test Error: %.3f' % dtc_error[1])\n",
        "print('\\t-- F1 Score: %.3f' % dtc_error[2])\n",
        "print('KNN Classifier:')\n",
        "print('\\t-- Training Error: %.3f' % knn_error[0])\n",
        "print('\\t-- Test Error: %.3f' % knn_error[1])\n",
        "print('\\t-- F1 Score: %.3f' % knn_error[2])\n",
        "### ========== TODO : END ========== ###"
      ],
      "metadata": {
        "id": "LvimpQB2ivzT",
        "colab": {
          "base_uri": "https://localhost:8080/"
        },
        "outputId": "5de59e00-ae6b-41f6-95ab-9cb31ae42aad"
      },
      "execution_count": null,
      "outputs": [
        {
          "output_type": "stream",
          "name": "stdout",
          "text": [
            "Investigating various classifiers...\n",
            "Majority Vote Classifier:\n",
            "\t-- Training Error: 0.467\n",
            "\t-- Test Error: 0.467\n",
            "\t-- F1 Score: 0.533\n",
            "Random Classifier:\n",
            "\t-- Training Error: 0.497\n",
            "\t-- Test Error: 0.498\n",
            "\t-- F1 Score: 0.502\n",
            "Decision Tree Classifier:\n",
            "\t-- Training Error: 0.055\n",
            "\t-- Test Error: 0.055\n",
            "\t-- F1 Score: 0.945\n",
            "KNN Classifier:\n",
            "\t-- Training Error: 0.068\n",
            "\t-- Test Error: 0.071\n",
            "\t-- F1 Score: 0.929\n"
          ]
        }
      ]
    },
    {
      "cell_type": "code",
      "source": [
        "### ========== TODO (e): START ========== ###\n",
        "# use 5-fold cross-validation to find the best value of k for k-Nearest Neighbors classifier\n",
        "print('Finding the best k...')\n",
        "scores = []\n",
        "odds = list(range(1, 100, 2))\n",
        "for i in odds:\n",
        "  clf = KNeighborsClassifier(n_neighbors=i)\n",
        "  score = cross_val_score(clf, X, y, scoring='f1_micro')\n",
        "  scores.append(sum(score) / 5)\n",
        "plt.plot(odds, scores)\n",
        "plt.xlabel('k')\n",
        "plt.ylabel('Score')\n",
        "print('\\t-- Best k Value: %d' % odds[scores.index(max(scores))])\n",
        "### ========== TODO : END ========== ###"
      ],
      "metadata": {
        "id": "vc0eTyvv7U_Y",
        "colab": {
          "base_uri": "https://localhost:8080/",
          "height": 314
        },
        "outputId": "ee30491e-6026-4c91-b562-e37751f7f6f9"
      },
      "execution_count": null,
      "outputs": [
        {
          "output_type": "stream",
          "name": "stdout",
          "text": [
            "Finding the best k...\n",
            "\t-- Best k Value: 13\n"
          ]
        },
        {
          "output_type": "display_data",
          "data": {
            "text/plain": [
              "<Figure size 432x288 with 1 Axes>"
            ],
            "image/png": "[encoded data removed]"
          },
          "metadata": {
            "needs_background": "light"
          }
        }
      ]
    },
    {
      "cell_type": "code",
      "source": [
        "### ========== TODO (f): START ========== ###\n",
        "# investigate decision tree classifier with various depths\n",
        "print('Investigating depths...')\n",
        "depths = list(range(1, 21))\n",
        "test_scores = []\n",
        "train_scores = []\n",
        "for d in depths:\n",
        "  clf = DecisionTreeClassifier(criterion='entropy', max_depth=d)\n",
        "  score = cross_validate(clf, X, y, scoring='f1_micro', cv=20, return_train_score=True)\n",
        "  test_scores.append(sum(score['test_score']) / 20)\n",
        "  train_scores.append(sum(score['train_score']) / 20)\n",
        "plt.plot(depths, test_scores, label = 'Test Scores')\n",
        "plt.plot(depths, train_scores, label = 'Training Scores')\n",
        "plt.xlabel('Depth')\n",
        "plt.ylabel('Score')\n",
        "plt.legend()\n",
        "print('\\t-- Best Depth: %d' % depths[test_scores.index(max(test_scores))])\n",
        "### ========== TODO : END ========== ###"
      ],
      "metadata": {
        "id": "9AzGLcp28IO1",
        "colab": {
          "base_uri": "https://localhost:8080/",
          "height": 314
        },
        "outputId": "a48e5b9b-47fa-4ac5-96c8-e94f95a62c74"
      },
      "execution_count": null,
      "outputs": [
        {
          "output_type": "stream",
          "name": "stdout",
          "text": [
            "Investigating depths...\n",
            "\t-- Best Depth: 12\n"
          ]
        },
        {
          "output_type": "display_data",
          "data": {
            "text/plain": [
              "<Figure size 432x288 with 1 Axes>"
            ],
            "image/png": "[encoded data removed]"
          },
          "metadata": {
            "needs_background": "light"
          }
        }
      ]
    }
  ]
}