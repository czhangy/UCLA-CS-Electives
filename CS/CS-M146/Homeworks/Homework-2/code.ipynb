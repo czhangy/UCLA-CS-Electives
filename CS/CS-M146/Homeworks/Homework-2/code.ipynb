{
  "cells": [
    {
      "cell_type": "markdown",
      "metadata": {
        "id": "ZUXT8AX4nAlO"
      },
      "source": [
        "# Homework 2\n",
        "\n",
        "**Name**: **Charles Zhang**\n",
        "\n",
        "**UID**: **305-413-659**\n",
        "\n",
        "Note: Please remember to make a copy of this colab notebook in your drive."
      ]
    },
    {
      "cell_type": "code",
      "execution_count": 1,
      "metadata": {
        "colab": {
          "base_uri": "https://localhost:8080/"
        },
        "id": "YsUAqVAblb0z",
        "outputId": "7f8cf26e-36d0-4668-da93-2dcba89bb40c"
      },
      "outputs": [
        {
          "output_type": "stream",
          "name": "stdout",
          "text": [
            "--2022-11-16 07:29:13--  https://web.cs.ucla.edu/~zshi/files/CS146/mushroom.txt\n",
            "Resolving web.cs.ucla.edu (web.cs.ucla.edu)... 131.179.128.29\n",
            "Connecting to web.cs.ucla.edu (web.cs.ucla.edu)|131.179.128.29|:443... connected.\n",
            "HTTP request sent, awaiting response... 200 OK\n",
            "Length: 1264848 (1.2M) [text/plain]\n",
            "Saving to: ‘mushroom.txt’\n",
            "\n",
            "mushroom.txt        100%[===================>]   1.21M  4.13MB/s    in 0.3s    \n",
            "\n",
            "2022-11-16 07:29:14 (4.13 MB/s) - ‘mushroom.txt’ saved [1264848/1264848]\n",
            "\n"
          ]
        }
      ],
      "source": [
        "# Download a processed version of the data\n",
        "!wget https://web.cs.ucla.edu/~zshi/files/CS146/mushroom.txt"
      ]
    },
    {
      "cell_type": "code",
      "execution_count": 3,
      "metadata": {
        "id": "0pgg-LfqnNxe"
      },
      "outputs": [],
      "source": [
        "# Use only the provided packages!\n",
        "import csv\n",
        "import matplotlib.pyplot as plt\n",
        "import numpy as np\n",
        "import torch\n",
        "import pandas\n",
        "from torch.utils.data import TensorDataset, DataLoader\n",
        "from sklearn.model_selection import train_test_split\n",
        "from sklearn.metrics import confusion_matrix"
      ]
    },
    {
      "cell_type": "code",
      "execution_count": 2,
      "metadata": {
        "id": "OfMAXBhanXxl"
      },
      "outputs": [],
      "source": [
        "# load data from txt\n",
        "# X.shape = (n_examples, n_features), y.shape = (n_examples, )\n",
        "def load_data(filename):\n",
        "    data = pandas.read_csv(filename).to_numpy()\n",
        "    n = data.shape[0]\n",
        "    d = data.shape[1] - 1\n",
        "\n",
        "    # Map strings to numbers\n",
        "    X = np.zeros((n, d))\n",
        "    for i in range(d):\n",
        "        mapping = {name: j for j, name in enumerate(sorted(set(data[:, i+1])))}\n",
        "        for j in range(n):\n",
        "            X[j, i] = mapping[data[j, i+1]]\n",
        "    mapping = {'EDIBLE': 1, 'POISONOUS': 0}\n",
        "    y = np.zeros(n, dtype=np.int32)\n",
        "    for j in range(n):\n",
        "        y[j] = mapping[data[j, 0]]\n",
        "\n",
        "    # We only use these 6 features\n",
        "    features = [0, 2, 8, 10, 15, 17]\n",
        "    X = np.take(X, features, axis=-1)\n",
        "\n",
        "    return X, y"
      ]
    },
    {
      "cell_type": "code",
      "execution_count": 4,
      "metadata": {
        "id": "EAXUrDUy5APB"
      },
      "outputs": [],
      "source": [
        "def create_data(filename, test_size=0.15, val_size=0.15):\n",
        "    # Load the dataset\n",
        "    X, y = load_data(filename='mushroom.txt')\n",
        "\n",
        "    # Split into train, validation, test\n",
        "    X_train, X_test, y_train, y_test = train_test_split(X, y, test_size=test_size, random_state=42)\n",
        "    X_train, X_val, y_train, y_val = train_test_split(X_train, y_train, test_size=val_size, random_state=42)\n",
        "    X_train, X_val, X_test = torch.Tensor(X_train), torch.Tensor(X_val), torch.Tensor(X_test)\n",
        "    y_train = torch.Tensor(np.array([ [y] for y in y_train ]))\n",
        "    y_val = torch.Tensor(np.array([ [y] for y in y_val ]))\n",
        "    y_test = torch.Tensor(np.array([ [y] for y in y_test ]))\n",
        "\n",
        "    return X_train, y_train, X_val, y_val, X_test, y_test"
      ]
    },
    {
      "cell_type": "code",
      "execution_count": 5,
      "metadata": {
        "id": "O0obV43AZqpl"
      },
      "outputs": [],
      "source": [
        "def get_dataloaders(X_train, y_train, X_val, y_val, X_test, y_test, train_batch_size=16, test_batch_size=32):\n",
        "    ### ========== TODO : START ========== ###\n",
        "    # part a: Create dataloaders for train, validation and test sets\n",
        "    train_dataset = TensorDataset(X_train, y_train)\n",
        "    train_loader = DataLoader(train_dataset, batch_size=train_batch_size)\n",
        "    val_dataset = TensorDataset(X_val, y_val)\n",
        "    val_loader = DataLoader(val_dataset, batch_size=test_batch_size)\n",
        "    test_dataset = TensorDataset(X_test, y_test)\n",
        "    test_loader = DataLoader(test_dataset, batch_size=test_batch_size)\n",
        "    ### ========== TODO : END ========== ###\n",
        "\n",
        "    return train_loader, val_loader, test_loader"
      ]
    },
    {
      "cell_type": "code",
      "execution_count": 6,
      "metadata": {
        "id": "w6wJVYzjMtfN"
      },
      "outputs": [],
      "source": [
        "def evaluate_loss(model, criterion, dataloader):\n",
        "    model.eval()\n",
        "    total_loss = 0.0\n",
        "    for batch_X, batch_y in dataloader:\n",
        "        batch_size = len(batch_X)\n",
        "        outputs = model(batch_X)\n",
        "        loss = criterion(outputs, batch_y)\n",
        "        total_loss += loss.item()\n",
        "\n",
        "    return total_loss / len(dataloader.dataset)"
      ]
    },
    {
      "cell_type": "code",
      "execution_count": 7,
      "metadata": {
        "id": "lsMHwVKEMp2N"
      },
      "outputs": [],
      "source": [
        "def evaluate_acc(model, dataloader):\n",
        "    model.eval()\n",
        "    total_acc = 0.0\n",
        "    for batch_X, batch_y in dataloader:\n",
        "        outputs = model(batch_X)\n",
        "        predictions = (outputs > 0.5).long()\n",
        "        total_acc += (predictions==batch_y).sum()\n",
        "        \n",
        "    return total_acc / len(dataloader.dataset)"
      ]
    },
    {
      "cell_type": "code",
      "execution_count": 8,
      "metadata": {
        "id": "JcgywtatpFyW"
      },
      "outputs": [],
      "source": [
        "######################################################################\n",
        "# OneLayerNetwork -- ALSO A LOGISTIC REGRESSION MODEL\n",
        "######################################################################\n",
        "\n",
        "class OneLayerNetwork(torch.nn.Module):\n",
        "    def __init__(self, input_features):\n",
        "        # input_features: int\n",
        "        super(OneLayerNetwork, self).__init__()\n",
        "\n",
        "        ### ========== TODO : START ========== ###\n",
        "        ### part c: implement OneLayerNetwork with torch.nn.Linear. Use sigmoid as the activation\n",
        "        self.linear = torch.nn.Linear(input_features, 1)\n",
        "        self.sigmoid = torch.nn.Sigmoid()\n",
        "        ### ========== TODO : END ========== ###\n",
        "\n",
        "    def forward(self, x):\n",
        "        # x.shape = (n_batch, n_features)\n",
        "\n",
        "        ### ========== TODO : START ========== ###\n",
        "        ### part c: implement the foward function\n",
        "        x = self.linear(x)\n",
        "        outputs = self.sigmoid(x)\n",
        "        ### ========== TODO : END ========== ###\n",
        "        return outputs\n",
        "\n"
      ]
    },
    {
      "cell_type": "code",
      "execution_count": 9,
      "metadata": {
        "id": "CTqdAPJqZu_9"
      },
      "outputs": [],
      "source": [
        "def init_oneLayerNN(in_features, lr):\n",
        "    # input_features: int -> Number of input features\n",
        "    # lr: float -> Learning Rate\n",
        "\n",
        "    ### ========== TODO : START ========== ###\n",
        "    ### part d: prepare the OneLayerNetwork model, criterion, and optimizer\n",
        "    model = OneLayerNetwork(in_features)\n",
        "    criterion = torch.nn.BCELoss(reduction='sum')\n",
        "    optimizer = torch.optim.SGD(model.parameters(), lr=lr)\n",
        "    ### ========== TODO : END ========== ###\n",
        "    return model, criterion, optimizer"
      ]
    },
    {
      "cell_type": "code",
      "execution_count": 10,
      "metadata": {
        "id": "togsEQhjpJV-"
      },
      "outputs": [],
      "source": [
        "######################################################################\n",
        "# TwoLayerNetwork\n",
        "######################################################################\n",
        "\n",
        "class TwoLayerNetwork(torch.nn.Module):\n",
        "    def __init__(self, input_features, hidden_features, first_activation='sigmoid'):\n",
        "        # input_features: int -> Number of input features\n",
        "        # hidden_features: int -> Size of the hidden layer\n",
        "        # first_activation: str -> Activation to use for the first hidden layer\n",
        "        \n",
        "        super(TwoLayerNetwork, self).__init__()\n",
        "        ### ========== TODO : START ========== ###\n",
        "        ### part e: implement TwoLayerNetwork with torch.nn.Linear. Use sigmoid as the activation for both layers\n",
        "        self.linear1 = torch.nn.Linear(input_features, hidden_features)\n",
        "        self.sigmoid1 = torch.nn.Sigmoid()\n",
        "        self.linear2 = torch.nn.Linear(hidden_features, 1)\n",
        "        self.sigmoid2 = torch.nn.Sigmoid()\n",
        "        ### ========== TODO : END ========== ###\n",
        "\n",
        "    def forward(self, x):\n",
        "        # x.shape = (n_batch, n_features)\n",
        "\n",
        "        ### ========== TODO : START ========== ###\n",
        "        ### part e: implement the foward function\n",
        "        x = self.linear1(x)\n",
        "        x = self.sigmoid1(x)\n",
        "        x = self.linear2(x)\n",
        "        outputs = self.sigmoid2(x)\n",
        "        ### ========== TODO : END ========== ###\n",
        "        return outputs"
      ]
    },
    {
      "cell_type": "code",
      "execution_count": 11,
      "metadata": {
        "id": "JLgzYSbRZ68i"
      },
      "outputs": [],
      "source": [
        "def init_twoLayerNN(in_features, hidden_size, first_activation, lr):\n",
        "    # input_features: int -> Number of input features\n",
        "    # hidden_features: int -> Size of the hidden layer\n",
        "    # first_activation: str -> Activation to use for the first hidden layer\n",
        "    # lr: float -> Learning Rate\n",
        "\n",
        "    ### ========== TODO : START ========== ###\n",
        "    ### part f: prepare the TwoLayerNetwork model, criterion, and optimizer\n",
        "    model = TwoLayerNetwork(in_features, hidden_size, first_activation)\n",
        "    criterion = torch.nn.BCELoss(reduction='sum')\n",
        "    optimizer = torch.optim.SGD(model.parameters(), lr=lr)\n",
        "    ### ========== TODO : END ========== ###\n",
        "\n",
        "    return model, criterion, optimizer"
      ]
    },
    {
      "cell_type": "code",
      "execution_count": 12,
      "metadata": {
        "id": "4tbScX1wJQs-"
      },
      "outputs": [],
      "source": [
        "def train(model, criterion, optimizer, train_loader, valid_loader, num_epochs, logging_epochs=1):\n",
        "    print(\"Start training model...\")\n",
        "\n",
        "    train_loss_list = []\n",
        "    valid_loss_list = []\n",
        "    train_acc_list = []\n",
        "    valid_acc_list = []\n",
        "    for epoch in range(1, num_epochs+1):\n",
        "        model.train()\n",
        "        for batch_X, batch_y in train_loader:\n",
        "            ### ========== TODO : START ========== ###\n",
        "            ### part g: Build the training paradigm - Zero out gradients, forward pass, compute loss, loss backward, update model\n",
        "            optimizer.zero_grad()\n",
        "            outputs = model(batch_X)\n",
        "            loss = criterion(outputs, batch_y)\n",
        "            loss.backward()\n",
        "            optimizer.step()\n",
        "            ### ========== TODO : END ========== ###\n",
        "            \n",
        "        train_loss = evaluate_loss(model, criterion, train_loader)\n",
        "        valid_loss = evaluate_loss(model, criterion, valid_loader)\n",
        "        train_acc = evaluate_acc(model, train_loader)\n",
        "        valid_acc = evaluate_acc(model, valid_loader)\n",
        "        train_loss_list.append(train_loss)\n",
        "        valid_loss_list.append(valid_loss)\n",
        "        train_acc_list.append(train_acc)\n",
        "        valid_acc_list.append(valid_acc)\n",
        "\n",
        "        if logging_epochs > 0 and epoch % logging_epochs == 0:\n",
        "            print(f\"| epoch {epoch:2d} | train loss {train_loss:.6f} | train acc {train_acc:.6f} | valid loss {valid_loss:.6f} | valid acc {valid_acc:.6f} |\")\n",
        "\n",
        "    return train_loss_list, valid_loss_list, train_acc_list, valid_acc_list"
      ]
    },
    {
      "cell_type": "code",
      "execution_count": 13,
      "metadata": {
        "colab": {
          "base_uri": "https://localhost:8080/"
        },
        "id": "nMNlraY-0i03",
        "outputId": "691e918a-081b-451a-afe5-9aa754e721a2"
      },
      "outputs": [
        {
          "output_type": "execute_result",
          "data": {
            "text/plain": [
              "<torch._C.Generator at 0x7f871c9b8830>"
            ]
          },
          "metadata": {},
          "execution_count": 13
        }
      ],
      "source": [
        "# fix random seed\n",
        "np.random.seed(42)\n",
        "torch.manual_seed(42)"
      ]
    },
    {
      "cell_type": "code",
      "execution_count": 14,
      "metadata": {
        "id": "suIFmOq9aBZg"
      },
      "outputs": [],
      "source": [
        "# Data Preparation\n",
        "train_batch_size = 16\n",
        "test_batch_size = 32\n",
        "\n",
        "## Load data\n",
        "X_train, y_train, X_val, y_val, X_test, y_test = create_data(\"mushroom.txt\")\n",
        "\n",
        "## Create data loaders\n",
        "train_loader, val_loader, test_loader = get_dataloaders(X_train, y_train, X_val, y_val, X_test, y_test, train_batch_size=train_batch_size, test_batch_size=test_batch_size)"
      ]
    },
    {
      "cell_type": "code",
      "execution_count": 15,
      "metadata": {
        "colab": {
          "base_uri": "https://localhost:8080/"
        },
        "id": "HOcY2viHYC5U",
        "outputId": "b8554c22-2cd0-4f0b-9d4b-0bfc11f1e8f5"
      },
      "outputs": [
        {
          "output_type": "stream",
          "name": "stdout",
          "text": [
            "Start training model...\n",
            "| epoch  1 | train loss 0.546384 | train acc 0.732357 | valid loss 0.545550 | valid acc 0.739049 |\n",
            "| epoch  2 | train loss 0.537560 | train acc 0.755881 | valid loss 0.539040 | valid acc 0.760485 |\n",
            "| epoch  3 | train loss 0.533699 | train acc 0.761309 | valid loss 0.536818 | valid acc 0.767008 |\n",
            "| epoch  4 | train loss 0.530968 | train acc 0.759829 | valid loss 0.535419 | valid acc 0.762349 |\n",
            "| epoch  5 | train loss 0.528757 | train acc 0.757032 | valid loss 0.534337 | valid acc 0.760485 |\n",
            "| epoch  6 | train loss 0.526884 | train acc 0.757526 | valid loss 0.533437 | valid acc 0.759553 |\n",
            "| epoch  7 | train loss 0.525260 | train acc 0.757526 | valid loss 0.532658 | valid acc 0.759553 |\n",
            "| epoch  8 | train loss 0.523823 | train acc 0.757526 | valid loss 0.531960 | valid acc 0.759553 |\n",
            "| epoch  9 | train loss 0.522533 | train acc 0.759006 | valid loss 0.531317 | valid acc 0.760485 |\n",
            "| epoch 10 | train loss 0.521359 | train acc 0.759006 | valid loss 0.530715 | valid acc 0.760485 |\n",
            "| epoch 11 | train loss 0.520280 | train acc 0.759171 | valid loss 0.530141 | valid acc 0.761417 |\n",
            "| epoch 12 | train loss 0.519280 | train acc 0.761967 | valid loss 0.529591 | valid acc 0.763281 |\n",
            "| epoch 13 | train loss 0.518348 | train acc 0.762790 | valid loss 0.529060 | valid acc 0.763281 |\n",
            "| epoch 14 | train loss 0.517474 | train acc 0.762461 | valid loss 0.528546 | valid acc 0.763281 |\n",
            "| epoch 15 | train loss 0.516652 | train acc 0.764599 | valid loss 0.528048 | valid acc 0.765144 |\n",
            "| epoch 16 | train loss 0.515877 | train acc 0.765915 | valid loss 0.527566 | valid acc 0.766076 |\n",
            "| epoch 17 | train loss 0.515143 | train acc 0.767725 | valid loss 0.527099 | valid acc 0.767008 |\n",
            "| epoch 18 | train loss 0.514448 | train acc 0.767725 | valid loss 0.526648 | valid acc 0.767008 |\n",
            "| epoch 19 | train loss 0.513788 | train acc 0.768054 | valid loss 0.526213 | valid acc 0.767008 |\n",
            "| epoch 20 | train loss 0.513162 | train acc 0.768383 | valid loss 0.525793 | valid acc 0.767008 |\n",
            "| epoch 21 | train loss 0.512567 | train acc 0.768383 | valid loss 0.525389 | valid acc 0.767008 |\n",
            "| epoch 22 | train loss 0.512001 | train acc 0.768383 | valid loss 0.525001 | valid acc 0.767008 |\n",
            "| epoch 23 | train loss 0.511462 | train acc 0.768383 | valid loss 0.524629 | valid acc 0.767008 |\n",
            "| epoch 24 | train loss 0.510949 | train acc 0.768383 | valid loss 0.524273 | valid acc 0.767008 |\n",
            "| epoch 25 | train loss 0.510461 | train acc 0.768547 | valid loss 0.523932 | valid acc 0.767008 |\n",
            "| epoch 26 | train loss 0.509995 | train acc 0.768547 | valid loss 0.523606 | valid acc 0.767008 |\n",
            "| epoch 27 | train loss 0.509552 | train acc 0.767725 | valid loss 0.523296 | valid acc 0.767008 |\n",
            "| epoch 28 | train loss 0.509130 | train acc 0.767725 | valid loss 0.523000 | valid acc 0.767008 |\n",
            "| epoch 29 | train loss 0.508727 | train acc 0.767725 | valid loss 0.522718 | valid acc 0.767008 |\n",
            "| epoch 30 | train loss 0.508343 | train acc 0.767725 | valid loss 0.522451 | valid acc 0.767008 |\n",
            "| epoch 31 | train loss 0.507977 | train acc 0.770850 | valid loss 0.522196 | valid acc 0.770736 |\n",
            "| epoch 32 | train loss 0.507628 | train acc 0.770850 | valid loss 0.521955 | valid acc 0.770736 |\n",
            "| epoch 33 | train loss 0.507295 | train acc 0.770850 | valid loss 0.521726 | valid acc 0.770736 |\n",
            "| epoch 34 | train loss 0.506978 | train acc 0.770850 | valid loss 0.521510 | valid acc 0.770736 |\n",
            "| epoch 35 | train loss 0.506675 | train acc 0.770850 | valid loss 0.521305 | valid acc 0.770736 |\n",
            "| epoch 36 | train loss 0.506386 | train acc 0.770850 | valid loss 0.521111 | valid acc 0.770736 |\n",
            "| epoch 37 | train loss 0.506110 | train acc 0.771179 | valid loss 0.520928 | valid acc 0.770736 |\n",
            "| epoch 38 | train loss 0.505847 | train acc 0.771179 | valid loss 0.520755 | valid acc 0.770736 |\n",
            "| epoch 39 | train loss 0.505595 | train acc 0.771179 | valid loss 0.520592 | valid acc 0.770736 |\n",
            "| epoch 40 | train loss 0.505356 | train acc 0.771015 | valid loss 0.520438 | valid acc 0.770736 |\n",
            "| epoch 41 | train loss 0.505127 | train acc 0.771015 | valid loss 0.520294 | valid acc 0.770736 |\n",
            "| epoch 42 | train loss 0.504908 | train acc 0.771015 | valid loss 0.520158 | valid acc 0.770736 |\n",
            "| epoch 43 | train loss 0.504699 | train acc 0.771015 | valid loss 0.520030 | valid acc 0.770736 |\n",
            "| epoch 44 | train loss 0.504500 | train acc 0.771015 | valid loss 0.519910 | valid acc 0.770736 |\n",
            "| epoch 45 | train loss 0.504310 | train acc 0.771344 | valid loss 0.519798 | valid acc 0.770736 |\n",
            "| epoch 46 | train loss 0.504128 | train acc 0.769863 | valid loss 0.519692 | valid acc 0.767940 |\n",
            "| epoch 47 | train loss 0.503954 | train acc 0.769863 | valid loss 0.519594 | valid acc 0.767940 |\n",
            "| epoch 48 | train loss 0.503788 | train acc 0.769863 | valid loss 0.519501 | valid acc 0.767940 |\n",
            "| epoch 49 | train loss 0.503629 | train acc 0.769863 | valid loss 0.519415 | valid acc 0.767940 |\n",
            "| epoch 50 | train loss 0.503478 | train acc 0.769863 | valid loss 0.519335 | valid acc 0.767940 |\n"
          ]
        }
      ],
      "source": [
        "## Define hyperparameters\n",
        "lr = 0.001\n",
        "num_epochs = 50\n",
        "\n",
        "## Init models\n",
        "oneLayerNN, criterion, optimizer = init_oneLayerNN(X_train.shape[1], lr=lr)\n",
        "results_one = train(oneLayerNN, criterion, optimizer, train_loader, val_loader, num_epochs=num_epochs)"
      ]
    },
    {
      "cell_type": "code",
      "execution_count": 16,
      "metadata": {
        "colab": {
          "base_uri": "https://localhost:8080/"
        },
        "id": "n2OAuoOyZVh0",
        "outputId": "0fc55cc9-4bdf-4476-dcf1-ca6eab15bc86"
      },
      "outputs": [
        {
          "output_type": "stream",
          "name": "stdout",
          "text": [
            "Start training model...\n",
            "| epoch  1 | train loss 0.667682 | train acc 0.562593 | valid loss 0.668011 | valid acc 0.565704 |\n",
            "| epoch  2 | train loss 0.652090 | train acc 0.623458 | valid loss 0.651769 | valid acc 0.638397 |\n",
            "| epoch  3 | train loss 0.635221 | train acc 0.650271 | valid loss 0.634644 | valid acc 0.654240 |\n",
            "| epoch  4 | train loss 0.615841 | train acc 0.699457 | valid loss 0.615277 | valid acc 0.697111 |\n",
            "| epoch  5 | train loss 0.594264 | train acc 0.724461 | valid loss 0.593729 | valid acc 0.729730 |\n",
            "| epoch  6 | train loss 0.573040 | train acc 0.728409 | valid loss 0.572476 | valid acc 0.733458 |\n",
            "| epoch  7 | train loss 0.554806 | train acc 0.759993 | valid loss 0.554384 | valid acc 0.764212 |\n",
            "| epoch  8 | train loss 0.539843 | train acc 0.759006 | valid loss 0.539684 | valid acc 0.765144 |\n",
            "| epoch  9 | train loss 0.527671 | train acc 0.763283 | valid loss 0.527856 | valid acc 0.769804 |\n",
            "| epoch 10 | train loss 0.517604 | train acc 0.763283 | valid loss 0.518233 | valid acc 0.769804 |\n",
            "| epoch 11 | train loss 0.509039 | train acc 0.763283 | valid loss 0.510222 | valid acc 0.769804 |\n",
            "| epoch 12 | train loss 0.501526 | train acc 0.754236 | valid loss 0.503351 | valid acc 0.760485 |\n",
            "| epoch 13 | train loss 0.494735 | train acc 0.755881 | valid loss 0.497267 | valid acc 0.762349 |\n",
            "| epoch 14 | train loss 0.488424 | train acc 0.763283 | valid loss 0.491706 | valid acc 0.767940 |\n",
            "| epoch 15 | train loss 0.482421 | train acc 0.764599 | valid loss 0.486472 | valid acc 0.767940 |\n",
            "| epoch 16 | train loss 0.476601 | train acc 0.779405 | valid loss 0.481425 | valid acc 0.783784 |\n",
            "| epoch 17 | train loss 0.470885 | train acc 0.779733 | valid loss 0.476470 | valid acc 0.783784 |\n",
            "| epoch 18 | train loss 0.465231 | train acc 0.778746 | valid loss 0.471552 | valid acc 0.780988 |\n",
            "| epoch 19 | train loss 0.459620 | train acc 0.780556 | valid loss 0.466646 | valid acc 0.780988 |\n",
            "| epoch 20 | train loss 0.454046 | train acc 0.789604 | valid loss 0.461750 | valid acc 0.789376 |\n",
            "| epoch 21 | train loss 0.448511 | train acc 0.789439 | valid loss 0.456875 | valid acc 0.787512 |\n",
            "| epoch 22 | train loss 0.443031 | train acc 0.798651 | valid loss 0.452042 | valid acc 0.796831 |\n",
            "| epoch 23 | train loss 0.437639 | train acc 0.813950 | valid loss 0.447286 | valid acc 0.809879 |\n",
            "| epoch 24 | train loss 0.432396 | train acc 0.832374 | valid loss 0.442662 | valid acc 0.821994 |\n",
            "| epoch 25 | train loss 0.427377 | train acc 0.835335 | valid loss 0.438240 | valid acc 0.826654 |\n",
            "| epoch 26 | train loss 0.422653 | train acc 0.839612 | valid loss 0.434080 | valid acc 0.827586 |\n",
            "| epoch 27 | train loss 0.418268 | train acc 0.835664 | valid loss 0.430224 | valid acc 0.822926 |\n",
            "| epoch 28 | train loss 0.414235 | train acc 0.837638 | valid loss 0.426683 | valid acc 0.824790 |\n",
            "| epoch 29 | train loss 0.410542 | train acc 0.837309 | valid loss 0.423446 | valid acc 0.823858 |\n",
            "| epoch 30 | train loss 0.407161 | train acc 0.837309 | valid loss 0.420487 | valid acc 0.823858 |\n",
            "| epoch 31 | train loss 0.404054 | train acc 0.838460 | valid loss 0.417775 | valid acc 0.824790 |\n",
            "| epoch 32 | train loss 0.401186 | train acc 0.838789 | valid loss 0.415274 | valid acc 0.824790 |\n",
            "| epoch 33 | train loss 0.398522 | train acc 0.839283 | valid loss 0.412955 | valid acc 0.824790 |\n",
            "| epoch 34 | train loss 0.396028 | train acc 0.838954 | valid loss 0.410789 | valid acc 0.823858 |\n",
            "| epoch 35 | train loss 0.393679 | train acc 0.839118 | valid loss 0.408754 | valid acc 0.823858 |\n",
            "| epoch 36 | train loss 0.391452 | train acc 0.838625 | valid loss 0.406832 | valid acc 0.822926 |\n",
            "| epoch 37 | train loss 0.389328 | train acc 0.838625 | valid loss 0.405008 | valid acc 0.822926 |\n",
            "| epoch 38 | train loss 0.387293 | train acc 0.838625 | valid loss 0.403273 | valid acc 0.822926 |\n",
            "| epoch 39 | train loss 0.385336 | train acc 0.838789 | valid loss 0.401619 | valid acc 0.823858 |\n",
            "| epoch 40 | train loss 0.383449 | train acc 0.838789 | valid loss 0.400038 | valid acc 0.823858 |\n",
            "| epoch 41 | train loss 0.381624 | train acc 0.838789 | valid loss 0.398525 | valid acc 0.823858 |\n",
            "| epoch 42 | train loss 0.379858 | train acc 0.838789 | valid loss 0.397074 | valid acc 0.823858 |\n",
            "| epoch 43 | train loss 0.378146 | train acc 0.838789 | valid loss 0.395680 | valid acc 0.823858 |\n",
            "| epoch 44 | train loss 0.376486 | train acc 0.838789 | valid loss 0.394337 | valid acc 0.823858 |\n",
            "| epoch 45 | train loss 0.374876 | train acc 0.838789 | valid loss 0.393041 | valid acc 0.823858 |\n",
            "| epoch 46 | train loss 0.373313 | train acc 0.840928 | valid loss 0.391787 | valid acc 0.825722 |\n",
            "| epoch 47 | train loss 0.371796 | train acc 0.840928 | valid loss 0.390572 | valid acc 0.825722 |\n",
            "| epoch 48 | train loss 0.370323 | train acc 0.844382 | valid loss 0.389393 | valid acc 0.830382 |\n",
            "| epoch 49 | train loss 0.368895 | train acc 0.844711 | valid loss 0.388248 | valid acc 0.830382 |\n",
            "| epoch 50 | train loss 0.367507 | train acc 0.844876 | valid loss 0.387133 | valid acc 0.831314 |\n"
          ]
        }
      ],
      "source": [
        "## Define hyperparameters\n",
        "lr = 0.001\n",
        "hidden_size = 6\n",
        "activation = 'sigmoid'\n",
        "num_epochs = 50\n",
        "\n",
        "## Init models\n",
        "twoLayerNN, criterion, optimizer = init_twoLayerNN(X_train.shape[1], hidden_size, activation, lr=lr)\n",
        "results_two = train(twoLayerNN, criterion, optimizer, train_loader, val_loader, num_epochs=num_epochs)"
      ]
    },
    {
      "cell_type": "code",
      "execution_count": 48,
      "metadata": {
        "colab": {
          "base_uri": "https://localhost:8080/",
          "height": 573
        },
        "id": "ER3Dc8A6ZEgk",
        "outputId": "d1df4e20-da3f-4425-a306-7212cf456dfd"
      },
      "outputs": [
        {
          "output_type": "display_data",
          "data": {
            "text/plain": [
              "<Figure size 432x288 with 1 Axes>"
            ],
            "image/png": "[encoded data removed]"
          },
          "metadata": {
            "needs_background": "light"
          }
        },
        {
          "output_type": "display_data",
          "data": {
            "text/plain": [
              "<Figure size 432x288 with 1 Axes>"
            ],
            "image/png": "[encoded data removed]"
          },
          "metadata": {
            "needs_background": "light"
          }
        }
      ],
      "source": [
        "one_train_loss, one_valid_loss, one_train_acc, one_valid_acc = results_one\n",
        "two_train_loss, two_valid_loss, two_train_acc, two_valid_acc = results_two\n",
        "\n",
        "### ========== TODO : START ========== ###\n",
        "### part h: Plot the loss for training/validation for both the models on the same curve\n",
        "epochs = list(range(1, num_epochs + 1))\n",
        "plt.plot(epochs, one_train_loss, label = 'One-Layer Training Loss')\n",
        "plt.plot(epochs, one_valid_loss, label = 'One-Layer Validation Loss')\n",
        "plt.plot(epochs, two_train_loss, label = 'Two-Layer Training Loss')\n",
        "plt.plot(epochs, two_valid_loss, label = 'Two-Layer Validation Loss')\n",
        "plt.xlabel('Epoch')\n",
        "plt.ylabel('Loss')\n",
        "plt.title(\"Loss vs. Epoch\")\n",
        "plt.legend()\n",
        "plt.show()\n",
        "### ========== TODO : END ========== ###\n",
        "\n",
        "### ========== TODO : START ========== ###\n",
        "### part h: Plot the accuracies for training/validation for both the models on the same curve\n",
        "plt.plot(epochs, one_train_acc, label = 'One-Layer Training Accuracy')\n",
        "plt.plot(epochs, one_valid_acc, label = 'One-Layer Validation Accuracy')\n",
        "plt.plot(epochs, two_train_acc, label = 'Two-Layer Training Accuracy')\n",
        "plt.plot(epochs, two_valid_acc, label = 'Two-Layer Validation Accuracy')\n",
        "plt.xlabel('Epoch')\n",
        "plt.ylabel('Accuracy')\n",
        "plt.title(\"Accuracy vs. Epoch\")\n",
        "plt.legend()\n",
        "plt.show()\n",
        "### ========== TODO : END ========== ###"
      ]
    },
    {
      "cell_type": "code",
      "execution_count": 18,
      "metadata": {
        "colab": {
          "base_uri": "https://localhost:8080/"
        },
        "id": "fGGl9NZPAXrn",
        "outputId": "f144f748-cf92-42b5-9f9f-f080bc7965e0"
      },
      "outputs": [
        {
          "output_type": "stream",
          "name": "stdout",
          "text": [
            "One-Layer NN Test Accuracy:\n",
            "\t-- 0.778\n",
            "Two-Layer NN Test Accuracy:\n",
            "\t-- 0.835\n"
          ]
        }
      ],
      "source": [
        "### ========== TODO : START ========== ###\n",
        "### part i: Evaluate the test accuracies for both the models. Explain the behavior\n",
        "one_test_acc = evaluate_acc(oneLayerNN, test_loader)\n",
        "two_test_acc = evaluate_acc(twoLayerNN, test_loader)\n",
        "print(\"One-Layer NN Test Accuracy:\")\n",
        "print('\\t-- %.3f' % one_test_acc)\n",
        "print(\"Two-Layer NN Test Accuracy:\")\n",
        "print('\\t-- %.3f' % two_test_acc)\n",
        "### ========== TODO : END ========== ###"
      ]
    },
    {
      "cell_type": "code",
      "execution_count": 40,
      "metadata": {
        "id": "vQJA_mgPvv_L"
      },
      "outputs": [],
      "source": [
        "def get_confusion_matrix(model, dataloader):\n",
        "    ### ========== TODO : START ========== ###\n",
        "    ### part j: Create confusion matrix for the given data loader\n",
        "    y_true = []\n",
        "    y_pred = []\n",
        "    for batch_X, batch_y in dataloader:\n",
        "        for data in batch_y.numpy():\n",
        "            y_true.append(data)\n",
        "        output = model(batch_X).detach().numpy()\n",
        "        for data in output:\n",
        "            if (data >= 0.5):\n",
        "                y_pred.append(1)\n",
        "            else:\n",
        "                y_pred.append(0)\n",
        "    cm = confusion_matrix(y_true, y_pred)\n",
        "    ### ========== TODO : END ========== ###\n",
        "\n",
        "    return cm"
      ]
    },
    {
      "cell_type": "code",
      "execution_count": 41,
      "metadata": {
        "colab": {
          "base_uri": "https://localhost:8080/"
        },
        "id": "QK3ZLMa2ERaP",
        "outputId": "07a0a5f1-a4d4-4b59-b747-a1a557942084"
      },
      "outputs": [
        {
          "output_type": "stream",
          "name": "stdout",
          "text": [
            "Confusion Matrix for One Layer NN:\n",
            "[[358 164]\n",
            " [ 85 466]]\n",
            "\n",
            "\n",
            "Confusion Matrix for Two Layer NN:\n",
            "[[387 135]\n",
            " [ 46 505]]\n"
          ]
        }
      ],
      "source": [
        "oneLayerNN_cm = get_confusion_matrix(oneLayerNN, val_loader)\n",
        "twoLayerNN_cm = get_confusion_matrix(twoLayerNN, val_loader)\n",
        "\n",
        "print (\"Confusion Matrix for One Layer NN:\")\n",
        "print (oneLayerNN_cm)\n",
        "print (\"\\n\")\n",
        "print (\"Confusion Matrix for Two Layer NN:\")\n",
        "print (twoLayerNN_cm)"
      ]
    },
    {
      "cell_type": "code",
      "execution_count": 43,
      "metadata": {
        "colab": {
          "base_uri": "https://localhost:8080/"
        },
        "id": "4VSQeomuW7BA",
        "outputId": "0c8b9c2f-0a4a-4d99-dce0-2cf6b802eaff"
      },
      "outputs": [
        {
          "output_type": "stream",
          "name": "stdout",
          "text": [
            "Start training model...\n",
            "| epoch  1 | train loss 0.614504 | train acc 0.677414 | valid loss 0.609025 | valid acc 0.698975 |\n",
            "| epoch  2 | train loss 0.557886 | train acc 0.740418 | valid loss 0.554873 | valid acc 0.748369 |\n",
            "| epoch  3 | train loss 0.525582 | train acc 0.755881 | valid loss 0.524840 | valid acc 0.762349 |\n",
            "| epoch  4 | train loss 0.500513 | train acc 0.772002 | valid loss 0.502049 | valid acc 0.778192 |\n",
            "| epoch  5 | train loss 0.478688 | train acc 0.773153 | valid loss 0.482696 | valid acc 0.778192 |\n",
            "| epoch  6 | train loss 0.460119 | train acc 0.795855 | valid loss 0.466426 | valid acc 0.794967 |\n",
            "| epoch  7 | train loss 0.444461 | train acc 0.806218 | valid loss 0.452819 | valid acc 0.805219 |\n",
            "| epoch  8 | train loss 0.431591 | train acc 0.810824 | valid loss 0.441741 | valid acc 0.801491 |\n",
            "| epoch  9 | train loss 0.421024 | train acc 0.820694 | valid loss 0.432737 | valid acc 0.816403 |\n",
            "| epoch 10 | train loss 0.412176 | train acc 0.834512 | valid loss 0.425240 | valid acc 0.818267 |\n",
            "| epoch 11 | train loss 0.404527 | train acc 0.836486 | valid loss 0.418774 | valid acc 0.821062 |\n",
            "| epoch 12 | train loss 0.397683 | train acc 0.838625 | valid loss 0.413007 | valid acc 0.822926 |\n",
            "| epoch 13 | train loss 0.391429 | train acc 0.840434 | valid loss 0.407766 | valid acc 0.825722 |\n",
            "| epoch 14 | train loss 0.385729 | train acc 0.840270 | valid loss 0.403015 | valid acc 0.826654 |\n",
            "| epoch 15 | train loss 0.380599 | train acc 0.840434 | valid loss 0.398766 | valid acc 0.827586 |\n",
            "| epoch 16 | train loss 0.376002 | train acc 0.840928 | valid loss 0.394987 | valid acc 0.827586 |\n",
            "| epoch 17 | train loss 0.371851 | train acc 0.840928 | valid loss 0.391593 | valid acc 0.827586 |\n",
            "| epoch 18 | train loss 0.368058 | train acc 0.842902 | valid loss 0.388497 | valid acc 0.833178 |\n",
            "| epoch 19 | train loss 0.364566 | train acc 0.843560 | valid loss 0.385656 | valid acc 0.833178 |\n",
            "| epoch 20 | train loss 0.361338 | train acc 0.843560 | valid loss 0.383041 | valid acc 0.833178 |\n",
            "| epoch 21 | train loss 0.358324 | train acc 0.844876 | valid loss 0.380594 | valid acc 0.834110 |\n",
            "| epoch 22 | train loss 0.355453 | train acc 0.845863 | valid loss 0.378255 | valid acc 0.835042 |\n",
            "| epoch 23 | train loss 0.352649 | train acc 0.846521 | valid loss 0.375979 | valid acc 0.835042 |\n",
            "| epoch 24 | train loss 0.349864 | train acc 0.846521 | valid loss 0.373756 | valid acc 0.835042 |\n",
            "| epoch 25 | train loss 0.347066 | train acc 0.850798 | valid loss 0.371588 | valid acc 0.839702 |\n",
            "| epoch 26 | train loss 0.344206 | train acc 0.851291 | valid loss 0.369431 | valid acc 0.840634 |\n",
            "| epoch 27 | train loss 0.341239 | train acc 0.851785 | valid loss 0.367208 | valid acc 0.842498 |\n",
            "| epoch 28 | train loss 0.338176 | train acc 0.855239 | valid loss 0.364871 | valid acc 0.848089 |\n",
            "| epoch 29 | train loss 0.335097 | train acc 0.858200 | valid loss 0.362445 | valid acc 0.849953 |\n",
            "| epoch 30 | train loss 0.332102 | train acc 0.860503 | valid loss 0.360006 | valid acc 0.850885 |\n",
            "| epoch 31 | train loss 0.329264 | train acc 0.858694 | valid loss 0.357627 | valid acc 0.848089 |\n",
            "| epoch 32 | train loss 0.326623 | train acc 0.860997 | valid loss 0.355357 | valid acc 0.849021 |\n",
            "| epoch 33 | train loss 0.324191 | train acc 0.860997 | valid loss 0.353223 | valid acc 0.849021 |\n",
            "| epoch 34 | train loss 0.321965 | train acc 0.860997 | valid loss 0.351231 | valid acc 0.849021 |\n",
            "| epoch 35 | train loss 0.319929 | train acc 0.860997 | valid loss 0.349377 | valid acc 0.849021 |\n",
            "| epoch 36 | train loss 0.318069 | train acc 0.861326 | valid loss 0.347653 | valid acc 0.849953 |\n",
            "| epoch 37 | train loss 0.316365 | train acc 0.864945 | valid loss 0.346047 | valid acc 0.852749 |\n",
            "| epoch 38 | train loss 0.314802 | train acc 0.864945 | valid loss 0.344549 | valid acc 0.852749 |\n",
            "| epoch 39 | train loss 0.313361 | train acc 0.864945 | valid loss 0.343147 | valid acc 0.852749 |\n",
            "| epoch 40 | train loss 0.312028 | train acc 0.864945 | valid loss 0.341828 | valid acc 0.852749 |\n",
            "| epoch 41 | train loss 0.310785 | train acc 0.866425 | valid loss 0.340580 | valid acc 0.854613 |\n",
            "| epoch 42 | train loss 0.309613 | train acc 0.866425 | valid loss 0.339381 | valid acc 0.854613 |\n",
            "| epoch 43 | train loss 0.308483 | train acc 0.866425 | valid loss 0.338199 | valid acc 0.854613 |\n",
            "| epoch 44 | train loss 0.307351 | train acc 0.866425 | valid loss 0.336978 | valid acc 0.854613 |\n",
            "| epoch 45 | train loss 0.306200 | train acc 0.866425 | valid loss 0.335708 | valid acc 0.854613 |\n",
            "| epoch 46 | train loss 0.305144 | train acc 0.866425 | valid loss 0.334632 | valid acc 0.854613 |\n",
            "| epoch 47 | train loss 0.304216 | train acc 0.866425 | valid loss 0.333789 | valid acc 0.854613 |\n",
            "| epoch 48 | train loss 0.303368 | train acc 0.866425 | valid loss 0.333017 | valid acc 0.854613 |\n",
            "| epoch 49 | train loss 0.302573 | train acc 0.866919 | valid loss 0.332264 | valid acc 0.854613 |\n",
            "| epoch 50 | train loss 0.301814 | train acc 0.866919 | valid loss 0.331523 | valid acc 0.854613 |\n"
          ]
        }
      ],
      "source": [
        "### ========== TODO : START ========== ###\n",
        "### part k: Hyperparameter Tuning. Write your updated hyperparameter values and show improvement for the TwoLayerNetwork\n",
        "\n",
        "# Define hyper-parameters\n",
        "lr = 0.003 # changed from 0.001\n",
        "hidden_size = 6\n",
        "activation = 'sigmoid'\n",
        "num_epochs = 50\n",
        "\n",
        "# Train model\n",
        "myTwoLayerNN, criterion, optimizer = init_twoLayerNN(X_train.shape[1], hidden_size, activation, lr=lr)\n",
        "my_results_two = train(myTwoLayerNN, criterion, optimizer, train_loader, val_loader, num_epochs=num_epochs)\n",
        "### ========== TODO : END ========== ###"
      ]
    },
    {
      "cell_type": "code",
      "execution_count": 49,
      "metadata": {
        "colab": {
          "base_uri": "https://localhost:8080/",
          "height": 677
        },
        "id": "CyU82a6vk_v4",
        "outputId": "7402b700-255a-445f-eccd-8da319e9e981"
      },
      "outputs": [
        {
          "output_type": "display_data",
          "data": {
            "text/plain": [
              "<Figure size 432x288 with 1 Axes>"
            ],
            "image/png": "[encoded data removed]"
          },
          "metadata": {
            "needs_background": "light"
          }
        },
        {
          "output_type": "display_data",
          "data": {
            "text/plain": [
              "<Figure size 432x288 with 1 Axes>"
            ],
            "image/png": "[encoded data removed]"
          },
          "metadata": {
            "needs_background": "light"
          }
        },
        {
          "output_type": "stream",
          "name": "stdout",
          "text": [
            "Old Two-Layer NN Test Accuracy:\n",
            "\t-- 0.835\n",
            "New Two-Layer NN Test Accuracy:\n",
            "\t-- 0.866\n",
            "Improvement:\n",
            "\t-- 0.031\n"
          ]
        }
      ],
      "source": [
        "# Define x-range\n",
        "epochs = list(range(1, num_epochs + 1))\n",
        "my_two_train_loss, my_two_valid_loss, my_two_train_acc, my_two_valid_acc = my_results_two\n",
        "\n",
        "# Plot loss\n",
        "plt.plot(epochs, two_train_loss, label = 'Old Two-Layer Training Loss')\n",
        "plt.plot(epochs, two_valid_loss, label = 'Old Two-Layer Validation Loss')\n",
        "plt.plot(epochs, my_two_train_loss, label = 'New Two-Layer Training Loss')\n",
        "plt.plot(epochs, my_two_valid_loss, label = 'New Two-Layer Validation Loss')\n",
        "plt.xlabel('Epoch')\n",
        "plt.ylabel('Loss')\n",
        "plt.title('Loss vs. Epoch')\n",
        "plt.legend()\n",
        "plt.show()\n",
        "\n",
        "# Plot accuracies\n",
        "plt.plot(epochs, two_train_acc, label = 'Old Two-Layer Training Accuracy')\n",
        "plt.plot(epochs, two_valid_acc, label = 'Old Two-Layer Validation Accuracy')\n",
        "plt.plot(epochs, my_two_train_acc, label = 'New Two-Layer Training Accuracy')\n",
        "plt.plot(epochs, my_two_valid_acc, label = 'New Two-Layer Validation Accuracy')\n",
        "plt.xlabel('Epoch')\n",
        "plt.ylabel('Accuracy')\n",
        "plt.title('Loss vs. Epoch')\n",
        "plt.legend()\n",
        "plt.show()\n",
        "\n",
        "# Calculate test accuracy\n",
        "my_test_acc = evaluate_acc(myTwoLayerNN, test_loader)\n",
        "print(\"Old Two-Layer NN Test Accuracy:\")\n",
        "print('\\t-- %.3f' % two_test_acc)\n",
        "print(\"New Two-Layer NN Test Accuracy:\")\n",
        "print('\\t-- %.3f' % my_test_acc)\n",
        "\n",
        "# Calculate improvement\n",
        "diff = my_test_acc.detach().numpy() - two_test_acc.detach().numpy()\n",
        "print(\"Improvement:\")\n",
        "print('\\t-- %.3f' % diff)"
      ]
    }
  ],
  "metadata": {
    "colab": {
      "provenance": []
    },
    "kernelspec": {
      "display_name": "Python 3",
      "name": "python3"
    },
    "language_info": {
      "name": "python"
    }
  },
  "nbformat": 4,
  "nbformat_minor": 0
}