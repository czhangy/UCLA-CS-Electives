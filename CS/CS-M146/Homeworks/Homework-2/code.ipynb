{
  "nbformat": 4,
  "nbformat_minor": 0,
  "metadata": {
    "colab": {
      "provenance": [],
      "collapsed_sections": []
    },
    "kernelspec": {
      "name": "python3",
      "display_name": "Python 3"
    },
    "language_info": {
      "name": "python"
    }
  },
  "cells": [
    {
      "cell_type": "markdown",
      "source": [
        "# Homework 2\n",
        "\n",
        "**Name**: **Charles Zhang**\n",
        "\n",
        "**UID**: **305-413-659**\n",
        "\n",
        "Note: Please remember to make a copy of this colab notebook in your drive."
      ],
      "metadata": {
        "id": "ZUXT8AX4nAlO"
      }
    },
    {
      "cell_type": "code",
      "execution_count": null,
      "metadata": {
        "id": "YsUAqVAblb0z",
        "colab": {
          "base_uri": "https://localhost:8080/"
        },
        "outputId": "00199841-5ced-4b5c-d2c6-32b1879c165f"
      },
      "outputs": [
        {
          "metadata": {
            "tags": null
          },
          "name": "stdout",
          "output_type": "stream",
          "text": [
            "--2022-11-11 22:21:27--  https://web.cs.ucla.edu/~zshi/files/CS146/mushroom.txt\n",
            "Resolving web.cs.ucla.edu (web.cs.ucla.edu)... 131.179.128.29\n",
            "Connecting to web.cs.ucla.edu (web.cs.ucla.edu)|131.179.128.29|:443... failed: Connection timed out.\n",
            "Retrying.\n",
            "\n",
            "--2022-11-11 22:23:40--  (try: 2)  https://web.cs.ucla.edu/~zshi/files/CS146/mushroom.txt\n",
            "Connecting to web.cs.ucla.edu (web.cs.ucla.edu)|131.179.128.29|:443... failed: Connection timed out.\n",
            "Retrying.\n",
            "\n",
            "--2022-11-11 22:25:52--  (try: 3)  https://web.cs.ucla.edu/~zshi/files/CS146/mushroom.txt\n",
            "Connecting to web.cs.ucla.edu (web.cs.ucla.edu)|131.179.128.29|:443... "
          ]
        }
      ],
      "source": [
        "# Download a processed version of the data\n",
        "!wget https://web.cs.ucla.edu/~zshi/files/CS146/mushroom.txt"
      ]
    },
    {
      "cell_type": "code",
      "source": [
        "# Use only the provided packages!\n",
        "import csv\n",
        "import matplotlib.pyplot as plt\n",
        "import numpy as np\n",
        "import torch\n",
        "import pandas\n",
        "from torch.utils.data import TensorDataset, DataLoader\n",
        "from sklearn.model_selection import train_test_split\n",
        "from sklearn.metrics import confusion_matrix"
      ],
      "metadata": {
        "id": "0pgg-LfqnNxe"
      },
      "execution_count": null,
      "outputs": []
    },
    {
      "cell_type": "code",
      "source": [
        "# load data from txt\n",
        "# X.shape = (n_examples, n_features), y.shape = (n_examples, )\n",
        "def load_data(filename):\n",
        "    data = pandas.read_csv(filename).to_numpy()\n",
        "    n = data.shape[0]\n",
        "    d = data.shape[1] - 1\n",
        "\n",
        "    # Map strings to numbers\n",
        "    X = np.zeros((n, d))\n",
        "    for i in range(d):\n",
        "        mapping = {name: j for j, name in enumerate(sorted(set(data[:, i+1])))}\n",
        "        for j in range(n):\n",
        "            X[j, i] = mapping[data[j, i+1]]\n",
        "    mapping = {'EDIBLE': 1, 'POISONOUS': 0}\n",
        "    y = np.zeros(n, dtype=np.int32)\n",
        "    for j in range(n):\n",
        "        y[j] = mapping[data[j, 0]]\n",
        "\n",
        "    # We only use these 6 features\n",
        "    features = [0, 2, 8, 10, 15, 17]\n",
        "    X = np.take(X, features, axis=-1)\n",
        "\n",
        "    return X, y"
      ],
      "metadata": {
        "id": "OfMAXBhanXxl"
      },
      "execution_count": null,
      "outputs": []
    },
    {
      "cell_type": "code",
      "source": [
        "def create_data(filename, test_size=0.15, val_size=0.15):\n",
        "    # Load the dataset\n",
        "    X, y = load_data(filename='mushroom.txt')\n",
        "\n",
        "    # Split into train, validation, test\n",
        "    X_train, X_test, y_train, y_test = train_test_split(X, y, test_size=test_size, random_state=42)\n",
        "    X_train, X_val, y_train, y_val = train_test_split(X_train, y_train, test_size=val_size, random_state=42)\n",
        "    X_train, X_val, X_test = torch.Tensor(X_train), torch.Tensor(X_val), torch.Tensor(X_test)\n",
        "    y_train = torch.Tensor(np.array([ [y] for y in y_train ]))\n",
        "    y_val = torch.Tensor(np.array([ [y] for y in y_val ]))\n",
        "    y_test = torch.Tensor(np.array([ [y] for y in y_test ]))\n",
        "\n",
        "    return X_train, y_train, X_val, y_val, X_test, y_test"
      ],
      "metadata": {
        "id": "EAXUrDUy5APB"
      },
      "execution_count": null,
      "outputs": []
    },
    {
      "cell_type": "code",
      "source": [
        "def get_dataloaders(X_train, y_train, X_val, y_val, X_test, y_test, train_batch_size=16, test_batch_size=32):\n",
        "    ### ========== TODO : START ========== ###\n",
        "    # part a: Create dataloaders for train, validation and test sets\n",
        "    train_dataset = TensorDataset(X_train, y_train)\n",
        "    train_loader = DataLoader(train_dataset, batch_size=train_batch_size)\n",
        "    val_dataset = TensorDataset(X_val, y_val)\n",
        "    val_loader = DataLoader(val_dataset, batch_size=test_batch_size)\n",
        "    test_dataset = TensorDataset(X_test, y_test)\n",
        "    test_loader = DataLoader(test_dataset, batch_size=test_batch_size)\n",
        "    ### ========== TODO : END ========== ###\n",
        "\n",
        "    return train_loader, val_loader, test_loader"
      ],
      "metadata": {
        "id": "O0obV43AZqpl"
      },
      "execution_count": null,
      "outputs": []
    },
    {
      "cell_type": "code",
      "source": [
        "def evaluate_loss(model, criterion, dataloader):\n",
        "    model.eval()\n",
        "    total_loss = 0.0\n",
        "    for batch_X, batch_y in dataloader:\n",
        "        batch_size = len(batch_X)\n",
        "        outputs = model(batch_X)\n",
        "        loss = criterion(outputs, batch_y)\n",
        "        total_loss += loss.item()\n",
        "\n",
        "    return total_loss / len(dataloader.dataset)"
      ],
      "metadata": {
        "id": "w6wJVYzjMtfN"
      },
      "execution_count": null,
      "outputs": []
    },
    {
      "cell_type": "code",
      "source": [
        "def evaluate_acc(model, dataloader):\n",
        "    model.eval()\n",
        "    total_acc = 0.0\n",
        "    for batch_X, batch_y in dataloader:\n",
        "        outputs = model(batch_X)\n",
        "        predictions = (outputs > 0.5).long()\n",
        "        total_acc += (predictions==batch_y).sum()\n",
        "        \n",
        "    return total_acc / len(dataloader.dataset)"
      ],
      "metadata": {
        "id": "lsMHwVKEMp2N"
      },
      "execution_count": null,
      "outputs": []
    },
    {
      "cell_type": "code",
      "source": [
        "######################################################################\n",
        "# OneLayerNetwork -- ALSO A LOGISTIC REGRESSION MODEL\n",
        "######################################################################\n",
        "\n",
        "class OneLayerNetwork(torch.nn.Module):\n",
        "    def __init__(self, input_features):\n",
        "        # input_features: int\n",
        "        super(OneLayerNetwork, self).__init__()\n",
        "\n",
        "        ### ========== TODO : START ========== ###\n",
        "        ### part c: implement OneLayerNetwork with torch.nn.Linear. Use sigmoid as the activation\n",
        "        self.linear = torch.nn.Linear(input_features, 1)\n",
        "        self.sigmoid = torch.nn.Sigmoid()\n",
        "        ### ========== TODO : END ========== ###\n",
        "\n",
        "    def forward(self, x):\n",
        "        # x.shape = (n_batch, n_features)\n",
        "\n",
        "        ### ========== TODO : START ========== ###\n",
        "        ### part c: implement the foward function\n",
        "        x = self.linear(x)\n",
        "        outputs = self.sigmoid(x)\n",
        "        ### ========== TODO : END ========== ###\n",
        "        return outputs\n",
        "\n"
      ],
      "metadata": {
        "id": "JcgywtatpFyW"
      },
      "execution_count": null,
      "outputs": []
    },
    {
      "cell_type": "code",
      "source": [
        "def init_oneLayerNN(in_features, lr):\n",
        "    # input_features: int -> Number of input features\n",
        "    # lr: float -> Learning Rate\n",
        "\n",
        "    ### ========== TODO : START ========== ###\n",
        "    ### part d: prepare the OneLayerNetwork model, criterion, and optimizer\n",
        "    model = OneLayerNetwork(in_features)\n",
        "    criterion = torch.nn.BCELoss(reduction='sum')\n",
        "    optimizer = torch.optim.SGD(model.parameters(), lr=lr)\n",
        "    ### ========== TODO : END ========== ###\n",
        "    return model, criterion, optimizer"
      ],
      "metadata": {
        "id": "CTqdAPJqZu_9"
      },
      "execution_count": null,
      "outputs": []
    },
    {
      "cell_type": "code",
      "source": [
        "######################################################################\n",
        "# TwoLayerNetwork\n",
        "######################################################################\n",
        "\n",
        "class TwoLayerNetwork(torch.nn.Module):\n",
        "    def __init__(self, input_features, hidden_features, first_activation='sigmoid'):\n",
        "        # input_features: int -> Number of input features\n",
        "        # hidden_features: int -> Size of the hidden layer\n",
        "        # first_activation: str -> Activation to use for the first hidden layer\n",
        "        \n",
        "        super(TwoLayerNetwork, self).__init__()\n",
        "        ### ========== TODO : START ========== ###\n",
        "        ### part e: implement TwoLayerNetwork with torch.nn.Linear. Use sigmoid as the activation for both layers\n",
        "        self.linear1 = torch.nn.Linear(input_features, hidden_features)\n",
        "        self.sigmoid1 = torch.nn.Sigmoid()\n",
        "        self.linear2 = torch.nn.Linear(hidden_features, 1)\n",
        "        self.sigmoid2 = torch.nn.Sigmoid()\n",
        "        ### ========== TODO : END ========== ###\n",
        "\n",
        "    def forward(self, x):\n",
        "        # x.shape = (n_batch, n_features)\n",
        "\n",
        "        ### ========== TODO : START ========== ###\n",
        "        ### part e: implement the foward function\n",
        "        x = self.linear1(x)\n",
        "        x = self.sigmoid1(x)\n",
        "        x = self.linear2(x)\n",
        "        outputs = self.sigmoid2(x)\n",
        "        ### ========== TODO : END ========== ###\n",
        "        return outputs"
      ],
      "metadata": {
        "id": "togsEQhjpJV-"
      },
      "execution_count": null,
      "outputs": []
    },
    {
      "cell_type": "code",
      "source": [
        "def init_twoLayerNN(in_features, hidden_size, first_activation, lr):\n",
        "    # input_features: int -> Number of input features\n",
        "    # hidden_features: int -> Size of the hidden layer\n",
        "    # first_activation: str -> Activation to use for the first hidden layer\n",
        "    # lr: float -> Learning Rate\n",
        "\n",
        "    ### ========== TODO : START ========== ###\n",
        "    ### part f: prepare the TwoLayerNetwork model, criterion, and optimizer\n",
        "    model = TwoLayerNetwork(in_features, hidden_size, first_activation)\n",
        "    criterion = torch.nn.BCELoss(reduction='sum')\n",
        "    optimizer = torch.optim.SGD(model.parameters(), lr=lr)\n",
        "    ### ========== TODO : END ========== ###\n",
        "\n",
        "    return model, criterion, optimizer"
      ],
      "metadata": {
        "id": "JLgzYSbRZ68i"
      },
      "execution_count": null,
      "outputs": []
    },
    {
      "cell_type": "code",
      "source": [
        "def train(model, criterion, optimizer, train_loader, valid_loader, num_epochs, logging_epochs=1):\n",
        "    print(\"Start training model...\")\n",
        "\n",
        "    train_loss_list = []\n",
        "    valid_loss_list = []\n",
        "    train_acc_list = []\n",
        "    valid_acc_list = []\n",
        "    for epoch in range(1, num_epochs+1):\n",
        "        model.train()\n",
        "        for batch_X, batch_y in train_loader:\n",
        "            ### ========== TODO : START ========== ###\n",
        "            ### part g: Build the training paradigm - Zero out gradients, forward pass, compute loss, loss backward, update model\n",
        "            optimizer.zero_grad()\n",
        "            outputs = model(batch_X)\n",
        "            loss = criterion(outputs, batch_y)\n",
        "            loss.backward()\n",
        "            optimizer.step()\n",
        "            ### ========== TODO : END ========== ###\n",
        "            \n",
        "        train_loss = evaluate_loss(model, criterion, train_loader)\n",
        "        valid_loss = evaluate_loss(model, criterion, valid_loader)\n",
        "        train_acc = evaluate_acc(model, train_loader)\n",
        "        valid_acc = evaluate_acc(model, valid_loader)\n",
        "        train_loss_list.append(train_loss)\n",
        "        valid_loss_list.append(valid_loss)\n",
        "        train_acc_list.append(train_acc)\n",
        "        valid_acc_list.append(valid_acc)\n",
        "\n",
        "        if logging_epochs > 0 and epoch % logging_epochs == 0:\n",
        "            print(f\"| epoch {epoch:2d} | train loss {train_loss:.6f} | train acc {train_acc:.6f} | valid loss {valid_loss:.6f} | valid acc {valid_acc:.6f} |\")\n",
        "\n",
        "    return train_loss_list, valid_loss_list, train_acc_list, valid_acc_list"
      ],
      "metadata": {
        "id": "4tbScX1wJQs-"
      },
      "execution_count": null,
      "outputs": []
    },
    {
      "cell_type": "code",
      "source": [
        "# fix random seed\n",
        "np.random.seed(42)\n",
        "torch.manual_seed(42)"
      ],
      "metadata": {
        "id": "nMNlraY-0i03",
        "colab": {
          "base_uri": "https://localhost:8080/"
        },
        "outputId": "a31b652d-8bbe-471b-eac5-f2c7b3f8ed09"
      },
      "execution_count": null,
      "outputs": [
        {
          "output_type": "execute_result",
          "data": {
            "text/plain": [
              "<torch._C.Generator at 0x7fd529818290>"
            ]
          },
          "metadata": {},
          "execution_count": 14
        }
      ]
    },
    {
      "cell_type": "code",
      "source": [
        "# Data Preparation\n",
        "train_batch_size = 16\n",
        "test_batch_size = 32\n",
        "\n",
        "## Load data\n",
        "X_train, y_train, X_val, y_val, X_test, y_test = create_data(\"mushroom.txt\")\n",
        "\n",
        "## Create data loaders\n",
        "train_loader, val_loader, test_loader = get_dataloaders(X_train, y_train, X_val, y_val, X_test, y_test, train_batch_size=train_batch_size, test_batch_size=test_batch_size)"
      ],
      "metadata": {
        "id": "suIFmOq9aBZg",
        "colab": {
          "base_uri": "https://localhost:8080/",
          "height": 380
        },
        "outputId": "e4543481-84a8-4cae-ef7a-cc9968a5dd64"
      },
      "execution_count": null,
      "outputs": [
        {
          "output_type": "error",
          "ename": "FileNotFoundError",
          "evalue": "ignored",
          "traceback": [
            "\u001b[0;31m---------------------------------------------------------------------------\u001b[0m",
            "\u001b[0;31mFileNotFoundError\u001b[0m                         Traceback (most recent call last)",
            "\u001b[0;32m<ipython-input-15-852a0d3e3016>\u001b[0m in \u001b[0;36m<module>\u001b[0;34m\u001b[0m\n\u001b[1;32m      4\u001b[0m \u001b[0;34m\u001b[0m\u001b[0m\n\u001b[1;32m      5\u001b[0m \u001b[0;31m## Load data\u001b[0m\u001b[0;34m\u001b[0m\u001b[0;34m\u001b[0m\u001b[0;34m\u001b[0m\u001b[0m\n\u001b[0;32m----> 6\u001b[0;31m \u001b[0mX_train\u001b[0m\u001b[0;34m,\u001b[0m \u001b[0my_train\u001b[0m\u001b[0;34m,\u001b[0m \u001b[0mX_val\u001b[0m\u001b[0;34m,\u001b[0m \u001b[0my_val\u001b[0m\u001b[0;34m,\u001b[0m \u001b[0mX_test\u001b[0m\u001b[0;34m,\u001b[0m \u001b[0my_test\u001b[0m \u001b[0;34m=\u001b[0m \u001b[0mcreate_data\u001b[0m\u001b[0;34m(\u001b[0m\u001b[0;34m\"mushroom.txt\"\u001b[0m\u001b[0;34m)\u001b[0m\u001b[0;34m\u001b[0m\u001b[0;34m\u001b[0m\u001b[0m\n\u001b[0m\u001b[1;32m      7\u001b[0m \u001b[0;34m\u001b[0m\u001b[0m\n\u001b[1;32m      8\u001b[0m \u001b[0;31m## Create data loaders\u001b[0m\u001b[0;34m\u001b[0m\u001b[0;34m\u001b[0m\u001b[0;34m\u001b[0m\u001b[0m\n",
            "\u001b[0;32m<ipython-input-5-ab16fd85a53b>\u001b[0m in \u001b[0;36mcreate_data\u001b[0;34m(filename, test_size, val_size)\u001b[0m\n\u001b[1;32m      1\u001b[0m \u001b[0;32mdef\u001b[0m \u001b[0mcreate_data\u001b[0m\u001b[0;34m(\u001b[0m\u001b[0mfilename\u001b[0m\u001b[0;34m,\u001b[0m \u001b[0mtest_size\u001b[0m\u001b[0;34m=\u001b[0m\u001b[0;36m0.15\u001b[0m\u001b[0;34m,\u001b[0m \u001b[0mval_size\u001b[0m\u001b[0;34m=\u001b[0m\u001b[0;36m0.15\u001b[0m\u001b[0;34m)\u001b[0m\u001b[0;34m:\u001b[0m\u001b[0;34m\u001b[0m\u001b[0;34m\u001b[0m\u001b[0m\n\u001b[1;32m      2\u001b[0m     \u001b[0;31m# Load the dataset\u001b[0m\u001b[0;34m\u001b[0m\u001b[0;34m\u001b[0m\u001b[0;34m\u001b[0m\u001b[0m\n\u001b[0;32m----> 3\u001b[0;31m     \u001b[0mX\u001b[0m\u001b[0;34m,\u001b[0m \u001b[0my\u001b[0m \u001b[0;34m=\u001b[0m \u001b[0mload_data\u001b[0m\u001b[0;34m(\u001b[0m\u001b[0mfilename\u001b[0m\u001b[0;34m=\u001b[0m\u001b[0;34m'mushroom.txt'\u001b[0m\u001b[0;34m)\u001b[0m\u001b[0;34m\u001b[0m\u001b[0;34m\u001b[0m\u001b[0m\n\u001b[0m\u001b[1;32m      4\u001b[0m \u001b[0;34m\u001b[0m\u001b[0m\n\u001b[1;32m      5\u001b[0m     \u001b[0;31m# Split into train, validation, test\u001b[0m\u001b[0;34m\u001b[0m\u001b[0;34m\u001b[0m\u001b[0;34m\u001b[0m\u001b[0m\n",
            "\u001b[0;32m<ipython-input-4-8f033251f353>\u001b[0m in \u001b[0;36mload_data\u001b[0;34m(filename)\u001b[0m\n\u001b[1;32m      2\u001b[0m \u001b[0;31m# X.shape = (n_examples, n_features), y.shape = (n_examples, )\u001b[0m\u001b[0;34m\u001b[0m\u001b[0;34m\u001b[0m\u001b[0;34m\u001b[0m\u001b[0m\n\u001b[1;32m      3\u001b[0m \u001b[0;32mdef\u001b[0m \u001b[0mload_data\u001b[0m\u001b[0;34m(\u001b[0m\u001b[0mfilename\u001b[0m\u001b[0;34m)\u001b[0m\u001b[0;34m:\u001b[0m\u001b[0;34m\u001b[0m\u001b[0;34m\u001b[0m\u001b[0m\n\u001b[0;32m----> 4\u001b[0;31m     \u001b[0mdata\u001b[0m \u001b[0;34m=\u001b[0m \u001b[0mpandas\u001b[0m\u001b[0;34m.\u001b[0m\u001b[0mread_csv\u001b[0m\u001b[0;34m(\u001b[0m\u001b[0mfilename\u001b[0m\u001b[0;34m)\u001b[0m\u001b[0;34m.\u001b[0m\u001b[0mto_numpy\u001b[0m\u001b[0;34m(\u001b[0m\u001b[0;34m)\u001b[0m\u001b[0;34m\u001b[0m\u001b[0;34m\u001b[0m\u001b[0m\n\u001b[0m\u001b[1;32m      5\u001b[0m     \u001b[0mn\u001b[0m \u001b[0;34m=\u001b[0m \u001b[0mdata\u001b[0m\u001b[0;34m.\u001b[0m\u001b[0mshape\u001b[0m\u001b[0;34m[\u001b[0m\u001b[0;36m0\u001b[0m\u001b[0;34m]\u001b[0m\u001b[0;34m\u001b[0m\u001b[0;34m\u001b[0m\u001b[0m\n\u001b[1;32m      6\u001b[0m     \u001b[0md\u001b[0m \u001b[0;34m=\u001b[0m \u001b[0mdata\u001b[0m\u001b[0;34m.\u001b[0m\u001b[0mshape\u001b[0m\u001b[0;34m[\u001b[0m\u001b[0;36m1\u001b[0m\u001b[0;34m]\u001b[0m \u001b[0;34m-\u001b[0m \u001b[0;36m1\u001b[0m\u001b[0;34m\u001b[0m\u001b[0;34m\u001b[0m\u001b[0m\n",
            "\u001b[0;32m/usr/local/lib/python3.7/dist-packages/pandas/util/_decorators.py\u001b[0m in \u001b[0;36mwrapper\u001b[0;34m(*args, **kwargs)\u001b[0m\n\u001b[1;32m    309\u001b[0m                     \u001b[0mstacklevel\u001b[0m\u001b[0;34m=\u001b[0m\u001b[0mstacklevel\u001b[0m\u001b[0;34m,\u001b[0m\u001b[0;34m\u001b[0m\u001b[0;34m\u001b[0m\u001b[0m\n\u001b[1;32m    310\u001b[0m                 )\n\u001b[0;32m--> 311\u001b[0;31m             \u001b[0;32mreturn\u001b[0m \u001b[0mfunc\u001b[0m\u001b[0;34m(\u001b[0m\u001b[0;34m*\u001b[0m\u001b[0margs\u001b[0m\u001b[0;34m,\u001b[0m \u001b[0;34m**\u001b[0m\u001b[0mkwargs\u001b[0m\u001b[0;34m)\u001b[0m\u001b[0;34m\u001b[0m\u001b[0;34m\u001b[0m\u001b[0m\n\u001b[0m\u001b[1;32m    312\u001b[0m \u001b[0;34m\u001b[0m\u001b[0m\n\u001b[1;32m    313\u001b[0m         \u001b[0;32mreturn\u001b[0m \u001b[0mwrapper\u001b[0m\u001b[0;34m\u001b[0m\u001b[0;34m\u001b[0m\u001b[0m\n",
            "\u001b[0;32m/usr/local/lib/python3.7/dist-packages/pandas/io/parsers/readers.py\u001b[0m in \u001b[0;36mread_csv\u001b[0;34m(filepath_or_buffer, sep, delimiter, header, names, index_col, usecols, squeeze, prefix, mangle_dupe_cols, dtype, engine, converters, true_values, false_values, skipinitialspace, skiprows, skipfooter, nrows, na_values, keep_default_na, na_filter, verbose, skip_blank_lines, parse_dates, infer_datetime_format, keep_date_col, date_parser, dayfirst, cache_dates, iterator, chunksize, compression, thousands, decimal, lineterminator, quotechar, quoting, doublequote, escapechar, comment, encoding, encoding_errors, dialect, error_bad_lines, warn_bad_lines, on_bad_lines, delim_whitespace, low_memory, memory_map, float_precision, storage_options)\u001b[0m\n\u001b[1;32m    584\u001b[0m     \u001b[0mkwds\u001b[0m\u001b[0;34m.\u001b[0m\u001b[0mupdate\u001b[0m\u001b[0;34m(\u001b[0m\u001b[0mkwds_defaults\u001b[0m\u001b[0;34m)\u001b[0m\u001b[0;34m\u001b[0m\u001b[0;34m\u001b[0m\u001b[0m\n\u001b[1;32m    585\u001b[0m \u001b[0;34m\u001b[0m\u001b[0m\n\u001b[0;32m--> 586\u001b[0;31m     \u001b[0;32mreturn\u001b[0m \u001b[0m_read\u001b[0m\u001b[0;34m(\u001b[0m\u001b[0mfilepath_or_buffer\u001b[0m\u001b[0;34m,\u001b[0m \u001b[0mkwds\u001b[0m\u001b[0;34m)\u001b[0m\u001b[0;34m\u001b[0m\u001b[0;34m\u001b[0m\u001b[0m\n\u001b[0m\u001b[1;32m    587\u001b[0m \u001b[0;34m\u001b[0m\u001b[0m\n\u001b[1;32m    588\u001b[0m \u001b[0;34m\u001b[0m\u001b[0m\n",
            "\u001b[0;32m/usr/local/lib/python3.7/dist-packages/pandas/io/parsers/readers.py\u001b[0m in \u001b[0;36m_read\u001b[0;34m(filepath_or_buffer, kwds)\u001b[0m\n\u001b[1;32m    480\u001b[0m \u001b[0;34m\u001b[0m\u001b[0m\n\u001b[1;32m    481\u001b[0m     \u001b[0;31m# Create the parser.\u001b[0m\u001b[0;34m\u001b[0m\u001b[0;34m\u001b[0m\u001b[0;34m\u001b[0m\u001b[0m\n\u001b[0;32m--> 482\u001b[0;31m     \u001b[0mparser\u001b[0m \u001b[0;34m=\u001b[0m \u001b[0mTextFileReader\u001b[0m\u001b[0;34m(\u001b[0m\u001b[0mfilepath_or_buffer\u001b[0m\u001b[0;34m,\u001b[0m \u001b[0;34m**\u001b[0m\u001b[0mkwds\u001b[0m\u001b[0;34m)\u001b[0m\u001b[0;34m\u001b[0m\u001b[0;34m\u001b[0m\u001b[0m\n\u001b[0m\u001b[1;32m    483\u001b[0m \u001b[0;34m\u001b[0m\u001b[0m\n\u001b[1;32m    484\u001b[0m     \u001b[0;32mif\u001b[0m \u001b[0mchunksize\u001b[0m \u001b[0;32mor\u001b[0m \u001b[0miterator\u001b[0m\u001b[0;34m:\u001b[0m\u001b[0;34m\u001b[0m\u001b[0;34m\u001b[0m\u001b[0m\n",
            "\u001b[0;32m/usr/local/lib/python3.7/dist-packages/pandas/io/parsers/readers.py\u001b[0m in \u001b[0;36m__init__\u001b[0;34m(self, f, engine, **kwds)\u001b[0m\n\u001b[1;32m    809\u001b[0m             \u001b[0mself\u001b[0m\u001b[0;34m.\u001b[0m\u001b[0moptions\u001b[0m\u001b[0;34m[\u001b[0m\u001b[0;34m\"has_index_names\"\u001b[0m\u001b[0;34m]\u001b[0m \u001b[0;34m=\u001b[0m \u001b[0mkwds\u001b[0m\u001b[0;34m[\u001b[0m\u001b[0;34m\"has_index_names\"\u001b[0m\u001b[0;34m]\u001b[0m\u001b[0;34m\u001b[0m\u001b[0;34m\u001b[0m\u001b[0m\n\u001b[1;32m    810\u001b[0m \u001b[0;34m\u001b[0m\u001b[0m\n\u001b[0;32m--> 811\u001b[0;31m         \u001b[0mself\u001b[0m\u001b[0;34m.\u001b[0m\u001b[0m_engine\u001b[0m \u001b[0;34m=\u001b[0m \u001b[0mself\u001b[0m\u001b[0;34m.\u001b[0m\u001b[0m_make_engine\u001b[0m\u001b[0;34m(\u001b[0m\u001b[0mself\u001b[0m\u001b[0;34m.\u001b[0m\u001b[0mengine\u001b[0m\u001b[0;34m)\u001b[0m\u001b[0;34m\u001b[0m\u001b[0;34m\u001b[0m\u001b[0m\n\u001b[0m\u001b[1;32m    812\u001b[0m \u001b[0;34m\u001b[0m\u001b[0m\n\u001b[1;32m    813\u001b[0m     \u001b[0;32mdef\u001b[0m \u001b[0mclose\u001b[0m\u001b[0;34m(\u001b[0m\u001b[0mself\u001b[0m\u001b[0;34m)\u001b[0m\u001b[0;34m:\u001b[0m\u001b[0;34m\u001b[0m\u001b[0;34m\u001b[0m\u001b[0m\n",
            "\u001b[0;32m/usr/local/lib/python3.7/dist-packages/pandas/io/parsers/readers.py\u001b[0m in \u001b[0;36m_make_engine\u001b[0;34m(self, engine)\u001b[0m\n\u001b[1;32m   1038\u001b[0m             )\n\u001b[1;32m   1039\u001b[0m         \u001b[0;31m# error: Too many arguments for \"ParserBase\"\u001b[0m\u001b[0;34m\u001b[0m\u001b[0;34m\u001b[0m\u001b[0;34m\u001b[0m\u001b[0m\n\u001b[0;32m-> 1040\u001b[0;31m         \u001b[0;32mreturn\u001b[0m \u001b[0mmapping\u001b[0m\u001b[0;34m[\u001b[0m\u001b[0mengine\u001b[0m\u001b[0;34m]\u001b[0m\u001b[0;34m(\u001b[0m\u001b[0mself\u001b[0m\u001b[0;34m.\u001b[0m\u001b[0mf\u001b[0m\u001b[0;34m,\u001b[0m \u001b[0;34m**\u001b[0m\u001b[0mself\u001b[0m\u001b[0;34m.\u001b[0m\u001b[0moptions\u001b[0m\u001b[0;34m)\u001b[0m  \u001b[0;31m# type: ignore[call-arg]\u001b[0m\u001b[0;34m\u001b[0m\u001b[0;34m\u001b[0m\u001b[0m\n\u001b[0m\u001b[1;32m   1041\u001b[0m \u001b[0;34m\u001b[0m\u001b[0m\n\u001b[1;32m   1042\u001b[0m     \u001b[0;32mdef\u001b[0m \u001b[0m_failover_to_python\u001b[0m\u001b[0;34m(\u001b[0m\u001b[0mself\u001b[0m\u001b[0;34m)\u001b[0m\u001b[0;34m:\u001b[0m\u001b[0;34m\u001b[0m\u001b[0;34m\u001b[0m\u001b[0m\n",
            "\u001b[0;32m/usr/local/lib/python3.7/dist-packages/pandas/io/parsers/c_parser_wrapper.py\u001b[0m in \u001b[0;36m__init__\u001b[0;34m(self, src, **kwds)\u001b[0m\n\u001b[1;32m     49\u001b[0m \u001b[0;34m\u001b[0m\u001b[0m\n\u001b[1;32m     50\u001b[0m         \u001b[0;31m# open handles\u001b[0m\u001b[0;34m\u001b[0m\u001b[0;34m\u001b[0m\u001b[0;34m\u001b[0m\u001b[0m\n\u001b[0;32m---> 51\u001b[0;31m         \u001b[0mself\u001b[0m\u001b[0;34m.\u001b[0m\u001b[0m_open_handles\u001b[0m\u001b[0;34m(\u001b[0m\u001b[0msrc\u001b[0m\u001b[0;34m,\u001b[0m \u001b[0mkwds\u001b[0m\u001b[0;34m)\u001b[0m\u001b[0;34m\u001b[0m\u001b[0;34m\u001b[0m\u001b[0m\n\u001b[0m\u001b[1;32m     52\u001b[0m         \u001b[0;32massert\u001b[0m \u001b[0mself\u001b[0m\u001b[0;34m.\u001b[0m\u001b[0mhandles\u001b[0m \u001b[0;32mis\u001b[0m \u001b[0;32mnot\u001b[0m \u001b[0;32mNone\u001b[0m\u001b[0;34m\u001b[0m\u001b[0;34m\u001b[0m\u001b[0m\n\u001b[1;32m     53\u001b[0m \u001b[0;34m\u001b[0m\u001b[0m\n",
            "\u001b[0;32m/usr/local/lib/python3.7/dist-packages/pandas/io/parsers/base_parser.py\u001b[0m in \u001b[0;36m_open_handles\u001b[0;34m(self, src, kwds)\u001b[0m\n\u001b[1;32m    227\u001b[0m             \u001b[0mmemory_map\u001b[0m\u001b[0;34m=\u001b[0m\u001b[0mkwds\u001b[0m\u001b[0;34m.\u001b[0m\u001b[0mget\u001b[0m\u001b[0;34m(\u001b[0m\u001b[0;34m\"memory_map\"\u001b[0m\u001b[0;34m,\u001b[0m \u001b[0;32mFalse\u001b[0m\u001b[0;34m)\u001b[0m\u001b[0;34m,\u001b[0m\u001b[0;34m\u001b[0m\u001b[0;34m\u001b[0m\u001b[0m\n\u001b[1;32m    228\u001b[0m             \u001b[0mstorage_options\u001b[0m\u001b[0;34m=\u001b[0m\u001b[0mkwds\u001b[0m\u001b[0;34m.\u001b[0m\u001b[0mget\u001b[0m\u001b[0;34m(\u001b[0m\u001b[0;34m\"storage_options\"\u001b[0m\u001b[0;34m,\u001b[0m \u001b[0;32mNone\u001b[0m\u001b[0;34m)\u001b[0m\u001b[0;34m,\u001b[0m\u001b[0;34m\u001b[0m\u001b[0;34m\u001b[0m\u001b[0m\n\u001b[0;32m--> 229\u001b[0;31m             \u001b[0merrors\u001b[0m\u001b[0;34m=\u001b[0m\u001b[0mkwds\u001b[0m\u001b[0;34m.\u001b[0m\u001b[0mget\u001b[0m\u001b[0;34m(\u001b[0m\u001b[0;34m\"encoding_errors\"\u001b[0m\u001b[0;34m,\u001b[0m \u001b[0;34m\"strict\"\u001b[0m\u001b[0;34m)\u001b[0m\u001b[0;34m,\u001b[0m\u001b[0;34m\u001b[0m\u001b[0;34m\u001b[0m\u001b[0m\n\u001b[0m\u001b[1;32m    230\u001b[0m         )\n\u001b[1;32m    231\u001b[0m \u001b[0;34m\u001b[0m\u001b[0m\n",
            "\u001b[0;32m/usr/local/lib/python3.7/dist-packages/pandas/io/common.py\u001b[0m in \u001b[0;36mget_handle\u001b[0;34m(path_or_buf, mode, encoding, compression, memory_map, is_text, errors, storage_options)\u001b[0m\n\u001b[1;32m    705\u001b[0m                 \u001b[0mencoding\u001b[0m\u001b[0;34m=\u001b[0m\u001b[0mioargs\u001b[0m\u001b[0;34m.\u001b[0m\u001b[0mencoding\u001b[0m\u001b[0;34m,\u001b[0m\u001b[0;34m\u001b[0m\u001b[0;34m\u001b[0m\u001b[0m\n\u001b[1;32m    706\u001b[0m                 \u001b[0merrors\u001b[0m\u001b[0;34m=\u001b[0m\u001b[0merrors\u001b[0m\u001b[0;34m,\u001b[0m\u001b[0;34m\u001b[0m\u001b[0;34m\u001b[0m\u001b[0m\n\u001b[0;32m--> 707\u001b[0;31m                 \u001b[0mnewline\u001b[0m\u001b[0;34m=\u001b[0m\u001b[0;34m\"\"\u001b[0m\u001b[0;34m,\u001b[0m\u001b[0;34m\u001b[0m\u001b[0;34m\u001b[0m\u001b[0m\n\u001b[0m\u001b[1;32m    708\u001b[0m             )\n\u001b[1;32m    709\u001b[0m         \u001b[0;32melse\u001b[0m\u001b[0;34m:\u001b[0m\u001b[0;34m\u001b[0m\u001b[0;34m\u001b[0m\u001b[0m\n",
            "\u001b[0;31mFileNotFoundError\u001b[0m: [Errno 2] No such file or directory: 'mushroom.txt'"
          ]
        }
      ]
    },
    {
      "cell_type": "code",
      "source": [
        "## Define hyperparameters\n",
        "lr = 0.001\n",
        "num_epochs = 50\n",
        "\n",
        "## Init models\n",
        "oneLayerNN, criterion, optimizer = init_oneLayerNN(X_train.shape[1], lr=lr)\n",
        "results_one = train(oneLayerNN, criterion, optimizer, train_loader, val_loader, num_epochs=num_epochs)"
      ],
      "metadata": {
        "id": "HOcY2viHYC5U",
        "colab": {
          "base_uri": "https://localhost:8080/"
        },
        "outputId": "65278713-3aa1-4405-c468-d0faf3167831"
      },
      "execution_count": null,
      "outputs": [
        {
          "output_type": "stream",
          "name": "stdout",
          "text": [
            "Start training model...\n",
            "| epoch  1 | train loss 0.546384 | train acc 0.732357 | valid loss 0.545550 | valid acc 0.739049 |\n",
            "| epoch  2 | train loss 0.537560 | train acc 0.755881 | valid loss 0.539040 | valid acc 0.760485 |\n",
            "| epoch  3 | train loss 0.533699 | train acc 0.761309 | valid loss 0.536818 | valid acc 0.767008 |\n",
            "| epoch  4 | train loss 0.530968 | train acc 0.759829 | valid loss 0.535419 | valid acc 0.762349 |\n",
            "| epoch  5 | train loss 0.528757 | train acc 0.757032 | valid loss 0.534337 | valid acc 0.760485 |\n",
            "| epoch  6 | train loss 0.526884 | train acc 0.757526 | valid loss 0.533437 | valid acc 0.759553 |\n",
            "| epoch  7 | train loss 0.525260 | train acc 0.757526 | valid loss 0.532658 | valid acc 0.759553 |\n",
            "| epoch  8 | train loss 0.523823 | train acc 0.757526 | valid loss 0.531960 | valid acc 0.759553 |\n",
            "| epoch  9 | train loss 0.522533 | train acc 0.759006 | valid loss 0.531317 | valid acc 0.760485 |\n",
            "| epoch 10 | train loss 0.521359 | train acc 0.759006 | valid loss 0.530715 | valid acc 0.760485 |\n",
            "| epoch 11 | train loss 0.520280 | train acc 0.759171 | valid loss 0.530141 | valid acc 0.761417 |\n",
            "| epoch 12 | train loss 0.519280 | train acc 0.761967 | valid loss 0.529591 | valid acc 0.763281 |\n",
            "| epoch 13 | train loss 0.518348 | train acc 0.762790 | valid loss 0.529060 | valid acc 0.763281 |\n",
            "| epoch 14 | train loss 0.517474 | train acc 0.762461 | valid loss 0.528546 | valid acc 0.763281 |\n",
            "| epoch 15 | train loss 0.516652 | train acc 0.764599 | valid loss 0.528048 | valid acc 0.765144 |\n",
            "| epoch 16 | train loss 0.515877 | train acc 0.765915 | valid loss 0.527566 | valid acc 0.766076 |\n",
            "| epoch 17 | train loss 0.515143 | train acc 0.767725 | valid loss 0.527100 | valid acc 0.767008 |\n",
            "| epoch 18 | train loss 0.514448 | train acc 0.767725 | valid loss 0.526648 | valid acc 0.767008 |\n",
            "| epoch 19 | train loss 0.513788 | train acc 0.768054 | valid loss 0.526213 | valid acc 0.767008 |\n",
            "| epoch 20 | train loss 0.513162 | train acc 0.768383 | valid loss 0.525793 | valid acc 0.767008 |\n",
            "| epoch 21 | train loss 0.512567 | train acc 0.768383 | valid loss 0.525389 | valid acc 0.767008 |\n",
            "| epoch 22 | train loss 0.512001 | train acc 0.768383 | valid loss 0.525001 | valid acc 0.767008 |\n",
            "| epoch 23 | train loss 0.511462 | train acc 0.768383 | valid loss 0.524629 | valid acc 0.767008 |\n",
            "| epoch 24 | train loss 0.510949 | train acc 0.768383 | valid loss 0.524273 | valid acc 0.767008 |\n",
            "| epoch 25 | train loss 0.510461 | train acc 0.768547 | valid loss 0.523932 | valid acc 0.767008 |\n",
            "| epoch 26 | train loss 0.509995 | train acc 0.768547 | valid loss 0.523606 | valid acc 0.767008 |\n",
            "| epoch 27 | train loss 0.509552 | train acc 0.767725 | valid loss 0.523296 | valid acc 0.767008 |\n",
            "| epoch 28 | train loss 0.509130 | train acc 0.767725 | valid loss 0.523000 | valid acc 0.767008 |\n",
            "| epoch 29 | train loss 0.508727 | train acc 0.767725 | valid loss 0.522718 | valid acc 0.767008 |\n",
            "| epoch 30 | train loss 0.508343 | train acc 0.767725 | valid loss 0.522451 | valid acc 0.767008 |\n",
            "| epoch 31 | train loss 0.507977 | train acc 0.770850 | valid loss 0.522196 | valid acc 0.770736 |\n",
            "| epoch 32 | train loss 0.507628 | train acc 0.770850 | valid loss 0.521955 | valid acc 0.770736 |\n",
            "| epoch 33 | train loss 0.507295 | train acc 0.770850 | valid loss 0.521726 | valid acc 0.770736 |\n",
            "| epoch 34 | train loss 0.506978 | train acc 0.770850 | valid loss 0.521510 | valid acc 0.770736 |\n",
            "| epoch 35 | train loss 0.506675 | train acc 0.770850 | valid loss 0.521305 | valid acc 0.770736 |\n",
            "| epoch 36 | train loss 0.506386 | train acc 0.770850 | valid loss 0.521111 | valid acc 0.770736 |\n",
            "| epoch 37 | train loss 0.506110 | train acc 0.771179 | valid loss 0.520928 | valid acc 0.770736 |\n",
            "| epoch 38 | train loss 0.505847 | train acc 0.771179 | valid loss 0.520755 | valid acc 0.770736 |\n",
            "| epoch 39 | train loss 0.505595 | train acc 0.771179 | valid loss 0.520592 | valid acc 0.770736 |\n",
            "| epoch 40 | train loss 0.505356 | train acc 0.771015 | valid loss 0.520438 | valid acc 0.770736 |\n",
            "| epoch 41 | train loss 0.505127 | train acc 0.771015 | valid loss 0.520294 | valid acc 0.770736 |\n",
            "| epoch 42 | train loss 0.504908 | train acc 0.771015 | valid loss 0.520158 | valid acc 0.770736 |\n",
            "| epoch 43 | train loss 0.504699 | train acc 0.771015 | valid loss 0.520030 | valid acc 0.770736 |\n",
            "| epoch 44 | train loss 0.504500 | train acc 0.771015 | valid loss 0.519910 | valid acc 0.770736 |\n",
            "| epoch 45 | train loss 0.504310 | train acc 0.771344 | valid loss 0.519798 | valid acc 0.770736 |\n",
            "| epoch 46 | train loss 0.504128 | train acc 0.769863 | valid loss 0.519692 | valid acc 0.767940 |\n",
            "| epoch 47 | train loss 0.503954 | train acc 0.769863 | valid loss 0.519594 | valid acc 0.767940 |\n",
            "| epoch 48 | train loss 0.503788 | train acc 0.769863 | valid loss 0.519501 | valid acc 0.767940 |\n",
            "| epoch 49 | train loss 0.503629 | train acc 0.769863 | valid loss 0.519415 | valid acc 0.767940 |\n",
            "| epoch 50 | train loss 0.503478 | train acc 0.769863 | valid loss 0.519335 | valid acc 0.767940 |\n"
          ]
        }
      ]
    },
    {
      "cell_type": "code",
      "source": [
        "## Define hyperparameters\n",
        "lr = 0.001\n",
        "hidden_size = 6\n",
        "activation = 'sigmoid'\n",
        "num_epochs = 50\n",
        "\n",
        "## Init models\n",
        "twoLayerNN, criterion, optimizer = init_twoLayerNN(X_train.shape[1], hidden_size, activation, lr=lr)\n",
        "results_two = train(twoLayerNN, criterion, optimizer, train_loader, val_loader, num_epochs=num_epochs)"
      ],
      "metadata": {
        "id": "n2OAuoOyZVh0",
        "colab": {
          "base_uri": "https://localhost:8080/"
        },
        "outputId": "6b73c9ab-ffc1-4eae-9c0e-fd7f8ecd3dc0"
      },
      "execution_count": null,
      "outputs": [
        {
          "output_type": "stream",
          "name": "stdout",
          "text": [
            "Start training model...\n",
            "| epoch  1 | train loss 0.667682 | train acc 0.562593 | valid loss 0.668011 | valid acc 0.565704 |\n",
            "| epoch  2 | train loss 0.652090 | train acc 0.623458 | valid loss 0.651769 | valid acc 0.638397 |\n",
            "| epoch  3 | train loss 0.635221 | train acc 0.650271 | valid loss 0.634644 | valid acc 0.654240 |\n",
            "| epoch  4 | train loss 0.615841 | train acc 0.699457 | valid loss 0.615277 | valid acc 0.697111 |\n",
            "| epoch  5 | train loss 0.594264 | train acc 0.724461 | valid loss 0.593729 | valid acc 0.729730 |\n",
            "| epoch  6 | train loss 0.573040 | train acc 0.728409 | valid loss 0.572476 | valid acc 0.733458 |\n",
            "| epoch  7 | train loss 0.554806 | train acc 0.759993 | valid loss 0.554384 | valid acc 0.764212 |\n",
            "| epoch  8 | train loss 0.539843 | train acc 0.759006 | valid loss 0.539684 | valid acc 0.765144 |\n",
            "| epoch  9 | train loss 0.527671 | train acc 0.763283 | valid loss 0.527856 | valid acc 0.769804 |\n",
            "| epoch 10 | train loss 0.517604 | train acc 0.763283 | valid loss 0.518233 | valid acc 0.769804 |\n",
            "| epoch 11 | train loss 0.509039 | train acc 0.763283 | valid loss 0.510222 | valid acc 0.769804 |\n",
            "| epoch 12 | train loss 0.501526 | train acc 0.754236 | valid loss 0.503351 | valid acc 0.760485 |\n",
            "| epoch 13 | train loss 0.494735 | train acc 0.755881 | valid loss 0.497267 | valid acc 0.762349 |\n",
            "| epoch 14 | train loss 0.488424 | train acc 0.763283 | valid loss 0.491706 | valid acc 0.767940 |\n",
            "| epoch 15 | train loss 0.482421 | train acc 0.764599 | valid loss 0.486472 | valid acc 0.767940 |\n",
            "| epoch 16 | train loss 0.476601 | train acc 0.779405 | valid loss 0.481425 | valid acc 0.783784 |\n",
            "| epoch 17 | train loss 0.470885 | train acc 0.779733 | valid loss 0.476470 | valid acc 0.783784 |\n",
            "| epoch 18 | train loss 0.465231 | train acc 0.778746 | valid loss 0.471552 | valid acc 0.780988 |\n",
            "| epoch 19 | train loss 0.459620 | train acc 0.780556 | valid loss 0.466646 | valid acc 0.780988 |\n",
            "| epoch 20 | train loss 0.454046 | train acc 0.789604 | valid loss 0.461750 | valid acc 0.789376 |\n",
            "| epoch 21 | train loss 0.448511 | train acc 0.789439 | valid loss 0.456875 | valid acc 0.787512 |\n",
            "| epoch 22 | train loss 0.443031 | train acc 0.798651 | valid loss 0.452042 | valid acc 0.796831 |\n",
            "| epoch 23 | train loss 0.437639 | train acc 0.813950 | valid loss 0.447286 | valid acc 0.809879 |\n",
            "| epoch 24 | train loss 0.432396 | train acc 0.832374 | valid loss 0.442662 | valid acc 0.821994 |\n",
            "| epoch 25 | train loss 0.427377 | train acc 0.835335 | valid loss 0.438240 | valid acc 0.826654 |\n",
            "| epoch 26 | train loss 0.422653 | train acc 0.839612 | valid loss 0.434080 | valid acc 0.827586 |\n",
            "| epoch 27 | train loss 0.418268 | train acc 0.835664 | valid loss 0.430224 | valid acc 0.822926 |\n",
            "| epoch 28 | train loss 0.414235 | train acc 0.837638 | valid loss 0.426683 | valid acc 0.824790 |\n",
            "| epoch 29 | train loss 0.410542 | train acc 0.837309 | valid loss 0.423446 | valid acc 0.823858 |\n",
            "| epoch 30 | train loss 0.407161 | train acc 0.837309 | valid loss 0.420487 | valid acc 0.823858 |\n",
            "| epoch 31 | train loss 0.404054 | train acc 0.838460 | valid loss 0.417775 | valid acc 0.824790 |\n",
            "| epoch 32 | train loss 0.401186 | train acc 0.838789 | valid loss 0.415274 | valid acc 0.824790 |\n",
            "| epoch 33 | train loss 0.398522 | train acc 0.839283 | valid loss 0.412955 | valid acc 0.824790 |\n",
            "| epoch 34 | train loss 0.396028 | train acc 0.838954 | valid loss 0.410789 | valid acc 0.823858 |\n",
            "| epoch 35 | train loss 0.393679 | train acc 0.839118 | valid loss 0.408754 | valid acc 0.823858 |\n",
            "| epoch 36 | train loss 0.391452 | train acc 0.838625 | valid loss 0.406832 | valid acc 0.822926 |\n",
            "| epoch 37 | train loss 0.389328 | train acc 0.838625 | valid loss 0.405008 | valid acc 0.822926 |\n",
            "| epoch 38 | train loss 0.387293 | train acc 0.838625 | valid loss 0.403273 | valid acc 0.822926 |\n",
            "| epoch 39 | train loss 0.385336 | train acc 0.838789 | valid loss 0.401619 | valid acc 0.823858 |\n",
            "| epoch 40 | train loss 0.383449 | train acc 0.838789 | valid loss 0.400038 | valid acc 0.823858 |\n",
            "| epoch 41 | train loss 0.381624 | train acc 0.838789 | valid loss 0.398525 | valid acc 0.823858 |\n",
            "| epoch 42 | train loss 0.379858 | train acc 0.838789 | valid loss 0.397074 | valid acc 0.823858 |\n",
            "| epoch 43 | train loss 0.378146 | train acc 0.838789 | valid loss 0.395680 | valid acc 0.823858 |\n",
            "| epoch 44 | train loss 0.376486 | train acc 0.838789 | valid loss 0.394337 | valid acc 0.823858 |\n",
            "| epoch 45 | train loss 0.374876 | train acc 0.838789 | valid loss 0.393041 | valid acc 0.823858 |\n",
            "| epoch 46 | train loss 0.373313 | train acc 0.840928 | valid loss 0.391787 | valid acc 0.825722 |\n",
            "| epoch 47 | train loss 0.371796 | train acc 0.840928 | valid loss 0.390572 | valid acc 0.825722 |\n",
            "| epoch 48 | train loss 0.370323 | train acc 0.844382 | valid loss 0.389393 | valid acc 0.830382 |\n",
            "| epoch 49 | train loss 0.368895 | train acc 0.844711 | valid loss 0.388248 | valid acc 0.830382 |\n",
            "| epoch 50 | train loss 0.367507 | train acc 0.844876 | valid loss 0.387133 | valid acc 0.831314 |\n"
          ]
        }
      ]
    },
    {
      "cell_type": "code",
      "source": [
        "one_train_loss, one_valid_loss, one_train_acc, one_valid_acc = results_one\n",
        "two_train_loss, two_valid_loss, two_train_acc, two_valid_acc = results_two\n",
        "\n",
        "### ========== TODO : START ========== ###\n",
        "### part h: Plot the loss for training/validation for both the models on the same curve\n",
        "epochs = list(range(1, num_epochs + 1))\n",
        "plt.plot(epochs, one_train_loss, label = 'One-Layer Training Loss')\n",
        "plt.plot(epochs, one_valid_loss, label = 'One-Layer Validation Loss')\n",
        "plt.plot(epochs, two_train_loss, label = 'Two-Layer Training Loss')\n",
        "plt.plot(epochs, two_valid_loss, label = 'Two-Layer Validation Loss')\n",
        "plt.xlabel('Epoch')\n",
        "plt.ylabel('Loss')\n",
        "plt.legend()\n",
        "### ========== TODO : END ========== ###\n",
        "\n",
        "### ========== TODO : START ========== ###\n",
        "### part h: Plot the accuracies for training/validation for both the models on the same curve\n",
        "# plt.plot(epochs, one_train_acc, label = 'One-Layer Training Accuracy')\n",
        "# plt.plot(epochs, one_valid_acc, label = 'One-Layer Validation Accuracy')\n",
        "# plt.plot(epochs, two_train_acc, label = 'Two-Layer Training Accuracy')\n",
        "# plt.plot(epochs, two_valid_acc, label = 'Two-Layer Validation Accuracy')\n",
        "# plt.xlabel('Epoch')\n",
        "# plt.ylabel('Accuracy')\n",
        "# plt.legend()\n",
        "### ========== TODO : END ========== ###"
      ],
      "metadata": {
        "id": "ER3Dc8A6ZEgk",
        "colab": {
          "base_uri": "https://localhost:8080/",
          "height": 296
        },
        "outputId": "d7c4b05b-4a67-4081-cd3a-b487792aadfb"
      },
      "execution_count": null,
      "outputs": [
        {
          "output_type": "execute_result",
          "data": {
            "text/plain": [
              "<matplotlib.legend.Legend at 0x7fd373601a90>"
            ]
          },
          "metadata": {},
          "execution_count": 34
        },
        {
          "output_type": "display_data",
          "data": {
            "text/plain": [
              "<Figure size 432x288 with 1 Axes>"
            ],
            "image/png": "[encoded data removed]"
          },
          "metadata": {
            "needs_background": "light"
          }
        }
      ]
    },
    {
      "cell_type": "code",
      "source": [
        "### ========== TODO : START ========== ###\n",
        "### part i: Evaluate the test accuracies for both the models. Explain the behavior\n",
        "one_test_acc = evaluate_acc(oneLayerNN, test_loader)\n",
        "two_test_acc = evaluate_acc(twoLayerNN, test_loader)\n",
        "print(\"One-Layer NN Test Accuracy:\")\n",
        "print('\\t-- %.3f' % one_test_acc)\n",
        "print(\"Two-Layer NN Test Accuracy:\")\n",
        "print('\\t-- %.3f' % two_test_acc)\n",
        "### ========== TODO : END ========== ###"
      ],
      "metadata": {
        "id": "fGGl9NZPAXrn",
        "colab": {
          "base_uri": "https://localhost:8080/"
        },
        "outputId": "15cb895b-8a61-4289-fd12-863b37f4cd0d"
      },
      "execution_count": null,
      "outputs": [
        {
          "output_type": "stream",
          "name": "stdout",
          "text": [
            "One-Layer NN Test Accuracy:\n",
            "\t-- 0.778\n",
            "Two-Layer NN Test Accuracy:\n",
            "\t-- 0.835\n"
          ]
        }
      ]
    },
    {
      "cell_type": "code",
      "source": [
        "def get_confusion_matrix(model, dataloader):\n",
        "    ### ========== TODO : START ========== ###\n",
        "    ### part j: Create confusion matrix for the given data loader\n",
        "    y_true = []\n",
        "    y_pred = []\n",
        "    for batch_X, batch_y in dataloader:\n",
        "        y_true.append(batch_y.numpy()[0])\n",
        "        output = model(batch_X).detach()\n",
        "        if output >= 0.5:\n",
        "            y_pred.append(1)\n",
        "        else:\n",
        "            y_pred.append(0)\n",
        "    cm = confusion_matrix(y_true, y_pred)\n",
        "    ### ========== TODO : END ========== ###\n",
        "\n",
        "    return cm"
      ],
      "metadata": {
        "id": "vQJA_mgPvv_L"
      },
      "execution_count": null,
      "outputs": []
    },
    {
      "cell_type": "code",
      "source": [
        "oneLayerNN_cm = get_confusion_matrix(oneLayerNN, val_loader)\n",
        "twoLayerNN_cm = get_confusion_matrix(twoLayerNN, val_loader)\n",
        "\n",
        "print (\"Confusion Matrix for One Layer NN:\")\n",
        "print (oneLayerNN_cm)\n",
        "print (\"\\n\")\n",
        "print (\"Confusion Matrix for Two Layer NN:\")\n",
        "print (twoLayerNN_cm)"
      ],
      "metadata": {
        "id": "QK3ZLMa2ERaP",
        "colab": {
          "base_uri": "https://localhost:8080/"
        },
        "outputId": "cc3cff3f-09e1-4b83-cc91-37035296be6a"
      },
      "execution_count": null,
      "outputs": [
        {
          "output_type": "stream",
          "name": "stdout",
          "text": [
            "Confusion Matrix for One Layer NN:\n",
            "[[358 164]\n",
            " [ 85 466]]\n",
            "\n",
            "\n",
            "Confusion Matrix for Two Layer NN:\n",
            "[[387 135]\n",
            " [ 46 505]]\n"
          ]
        }
      ]
    },
    {
      "cell_type": "code",
      "source": [
        "### ========== TODO : START ========== ###\n",
        "### part k: Hyperparameter Tuning. Write your updated hyperparameter values and show improvement for the TwoLayerNetwork\n",
        "\n",
        "# Define hyper-parameters\n",
        "lr = 0.003 # changed from 0.001\n",
        "hidden_size = 6\n",
        "activation = 'sigmoid'\n",
        "num_epochs = 50\n",
        "\n",
        "# Train model\n",
        "myTwoLayerNN, criterion, optimizer = init_twoLayerNN(X_train.shape[1], hidden_size, activation, lr=lr)\n",
        "my_results_two = train(myTwoLayerNN, criterion, optimizer, train_loader, val_loader, num_epochs=num_epochs)\n",
        "### ========== TODO : END ========== ###"
      ],
      "metadata": {
        "id": "4VSQeomuW7BA",
        "colab": {
          "base_uri": "https://localhost:8080/"
        },
        "outputId": "d8db65cd-1381-46de-f58e-f457521cd1ae"
      },
      "execution_count": null,
      "outputs": [
        {
          "output_type": "stream",
          "name": "stdout",
          "text": [
            "Start training model...\n",
            "| epoch  1 | train loss 0.593887 | train acc 0.725942 | valid loss 0.591068 | valid acc 0.732526 |\n",
            "| epoch  2 | train loss 0.542754 | train acc 0.748972 | valid loss 0.540523 | valid acc 0.758621 |\n",
            "| epoch  3 | train loss 0.514118 | train acc 0.759335 | valid loss 0.513157 | valid acc 0.765144 |\n",
            "| epoch  4 | train loss 0.494791 | train acc 0.755552 | valid loss 0.495681 | valid acc 0.762349 |\n",
            "| epoch  5 | train loss 0.478628 | train acc 0.778911 | valid loss 0.481427 | valid acc 0.782852 |\n",
            "| epoch  6 | train loss 0.463618 | train acc 0.779405 | valid loss 0.468504 | valid acc 0.783784 |\n",
            "| epoch  7 | train loss 0.449901 | train acc 0.800461 | valid loss 0.456866 | valid acc 0.799627 |\n",
            "| epoch  8 | train loss 0.437728 | train acc 0.822668 | valid loss 0.446502 | valid acc 0.812675 |\n",
            "| epoch  9 | train loss 0.426943 | train acc 0.819378 | valid loss 0.437298 | valid acc 0.816403 |\n",
            "| epoch 10 | train loss 0.417428 | train acc 0.833032 | valid loss 0.429172 | valid acc 0.821062 |\n",
            "| epoch 11 | train loss 0.409106 | train acc 0.835499 | valid loss 0.422062 | valid acc 0.822926 |\n",
            "| epoch 12 | train loss 0.401851 | train acc 0.836486 | valid loss 0.415854 | valid acc 0.822926 |\n",
            "| epoch 13 | train loss 0.395476 | train acc 0.836486 | valid loss 0.410382 | valid acc 0.822926 |\n",
            "| epoch 14 | train loss 0.389777 | train acc 0.835993 | valid loss 0.405490 | valid acc 0.821994 |\n",
            "| epoch 15 | train loss 0.384586 | train acc 0.835993 | valid loss 0.401075 | valid acc 0.821994 |\n",
            "| epoch 16 | train loss 0.379749 | train acc 0.839612 | valid loss 0.397051 | valid acc 0.830382 |\n",
            "| epoch 17 | train loss 0.375100 | train acc 0.839612 | valid loss 0.393286 | valid acc 0.830382 |\n",
            "| epoch 18 | train loss 0.370530 | train acc 0.839776 | valid loss 0.389647 | valid acc 0.831314 |\n",
            "| epoch 19 | train loss 0.366069 | train acc 0.841586 | valid loss 0.386105 | valid acc 0.832246 |\n",
            "| epoch 20 | train loss 0.361849 | train acc 0.841915 | valid loss 0.382743 | valid acc 0.833178 |\n",
            "| epoch 21 | train loss 0.357992 | train acc 0.842244 | valid loss 0.379654 | valid acc 0.832246 |\n",
            "| epoch 22 | train loss 0.354512 | train acc 0.846192 | valid loss 0.376823 | valid acc 0.836906 |\n",
            "| epoch 23 | train loss 0.351330 | train acc 0.846192 | valid loss 0.374143 | valid acc 0.832246 |\n",
            "| epoch 24 | train loss 0.348352 | train acc 0.846850 | valid loss 0.371508 | valid acc 0.832246 |\n",
            "| epoch 25 | train loss 0.345509 | train acc 0.850304 | valid loss 0.368842 | valid acc 0.837838 |\n",
            "| epoch 26 | train loss 0.342756 | train acc 0.851785 | valid loss 0.366116 | valid acc 0.838770 |\n",
            "| epoch 27 | train loss 0.340055 | train acc 0.852607 | valid loss 0.363330 | valid acc 0.839702 |\n",
            "| epoch 28 | train loss 0.337366 | train acc 0.853101 | valid loss 0.360514 | valid acc 0.839702 |\n",
            "| epoch 29 | train loss 0.334695 | train acc 0.853430 | valid loss 0.357751 | valid acc 0.839702 |\n",
            "| epoch 30 | train loss 0.332103 | train acc 0.853923 | valid loss 0.355129 | valid acc 0.840634 |\n",
            "| epoch 31 | train loss 0.329637 | train acc 0.867906 | valid loss 0.352635 | valid acc 0.851817 |\n",
            "| epoch 32 | train loss 0.327298 | train acc 0.868399 | valid loss 0.350216 | valid acc 0.852749 |\n",
            "| epoch 33 | train loss 0.325078 | train acc 0.868728 | valid loss 0.347852 | valid acc 0.853681 |\n",
            "| epoch 34 | train loss 0.322973 | train acc 0.868728 | valid loss 0.345548 | valid acc 0.853681 |\n",
            "| epoch 35 | train loss 0.320978 | train acc 0.868893 | valid loss 0.343313 | valid acc 0.854613 |\n",
            "| epoch 36 | train loss 0.319090 | train acc 0.868893 | valid loss 0.341156 | valid acc 0.854613 |\n",
            "| epoch 37 | train loss 0.317303 | train acc 0.871360 | valid loss 0.339083 | valid acc 0.856477 |\n",
            "| epoch 38 | train loss 0.315615 | train acc 0.871360 | valid loss 0.337099 | valid acc 0.856477 |\n",
            "| epoch 39 | train loss 0.314020 | train acc 0.871360 | valid loss 0.335203 | valid acc 0.856477 |\n",
            "| epoch 40 | train loss 0.312513 | train acc 0.871360 | valid loss 0.333393 | valid acc 0.856477 |\n",
            "| epoch 41 | train loss 0.311088 | train acc 0.873334 | valid loss 0.331664 | valid acc 0.857409 |\n",
            "| epoch 42 | train loss 0.309738 | train acc 0.873334 | valid loss 0.330008 | valid acc 0.857409 |\n",
            "| epoch 43 | train loss 0.308454 | train acc 0.872018 | valid loss 0.328415 | valid acc 0.855545 |\n",
            "| epoch 44 | train loss 0.307221 | train acc 0.872018 | valid loss 0.326870 | valid acc 0.855545 |\n",
            "| epoch 45 | train loss 0.306017 | train acc 0.872018 | valid loss 0.325350 | valid acc 0.855545 |\n",
            "| epoch 46 | train loss 0.304797 | train acc 0.872018 | valid loss 0.323819 | valid acc 0.855545 |\n",
            "| epoch 47 | train loss 0.303481 | train acc 0.872018 | valid loss 0.322226 | valid acc 0.855545 |\n",
            "| epoch 48 | train loss 0.301968 | train acc 0.872841 | valid loss 0.320526 | valid acc 0.861137 |\n",
            "| epoch 49 | train loss 0.300222 | train acc 0.874321 | valid loss 0.318730 | valid acc 0.863001 |\n",
            "| epoch 50 | train loss 0.298343 | train acc 0.874321 | valid loss 0.316909 | valid acc 0.863001 |\n"
          ]
        }
      ]
    },
    {
      "cell_type": "code",
      "source": [
        "# Define x-range\n",
        "epochs = list(range(1, num_epochs + 1))\n",
        "my_two_train_loss, my_two_valid_loss, my_two_train_acc, my_two_valid_acc = my_results_two\n",
        "\n",
        "# Plot loss\n",
        "# plt.plot(epochs, two_train_loss, label = 'Old Two-Layer Training Loss')\n",
        "# plt.plot(epochs, two_valid_loss, label = 'Old Two-Layer Validation Loss')\n",
        "# plt.plot(epochs, my_two_train_loss, label = 'New Two-Layer Training Loss')\n",
        "# plt.plot(epochs, my_two_valid_loss, label = 'New Two-Layer Validation Loss')\n",
        "# plt.ylabel('Loss')\n",
        "\n",
        "# Plot accuracies\n",
        "plt.plot(epochs, two_train_acc, label = 'Old Two-Layer Training Accuracy')\n",
        "plt.plot(epochs, two_valid_acc, label = 'Old Two-Layer Validation Accuracy')\n",
        "plt.plot(epochs, my_two_train_acc, label = 'New Two-Layer Training Accuracy')\n",
        "plt.plot(epochs, my_two_valid_acc, label = 'New Two-Layer Validation Accuracy')\n",
        "plt.ylabel('Accuracy')\n",
        "\n",
        "# Common axes and legend\n",
        "plt.xlabel('Epoch')\n",
        "plt.legend()\n",
        "\n",
        "# Calculate test accuracy\n",
        "my_test_acc = evaluate_acc(myTwoLayerNN, test_loader)\n",
        "print(\"Old Two-Layer NN Test Accuracy:\")\n",
        "print('\\t-- %.3f' % two_test_acc)\n",
        "print(\"New Two-Layer NN Test Accuracy:\")\n",
        "print('\\t-- %.3f' % my_test_acc)\n",
        "\n",
        "# Calculate improvement\n",
        "diff = my_test_acc.detach().numpy() - two_test_acc.detach().numpy()\n",
        "print(\"Improvement:\")\n",
        "print('\\t-- %.3f' % diff)"
      ],
      "metadata": {
        "colab": {
          "base_uri": "https://localhost:8080/",
          "height": 383
        },
        "id": "CyU82a6vk_v4",
        "outputId": "b9007513-c095-41fb-f3db-ddd2d00a35ce"
      },
      "execution_count": null,
      "outputs": [
        {
          "output_type": "stream",
          "name": "stdout",
          "text": [
            "Old Two-Layer NN Test Accuracy:\n",
            "\t-- 0.835\n",
            "New Two-Layer NN Test Accuracy:\n",
            "\t-- 0.866\n",
            "Improvement:\n",
            "\t-- 0.031\n"
          ]
        },
        {
          "output_type": "display_data",
          "data": {
            "text/plain": [
              "<Figure size 432x288 with 1 Axes>"
            ],
            "image/png": "[encoded data removed]"
          },
          "metadata": {
            "needs_background": "light"
          }
        }
      ]
    }
  ]
}